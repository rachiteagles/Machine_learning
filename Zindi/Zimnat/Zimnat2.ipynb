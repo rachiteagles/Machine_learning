{
 "cells": [
  {
   "cell_type": "code",
   "execution_count": 1,
   "metadata": {},
   "outputs": [
    {
     "data": {
      "text/plain": [
       "<torch._C.Generator at 0x220dd3eea70>"
      ]
     },
     "execution_count": 1,
     "metadata": {},
     "output_type": "execute_result"
    }
   ],
   "source": [
    "import pandas as pd\n",
    "import statistics as st\n",
    "import numpy as np\n",
    "import torch\n",
    "import torch.nn as nn\n",
    "import torch.nn.functional as F\n",
    "from tqdm import tqdm\n",
    "from sklearn import preprocessing\n",
    "torch.manual_seed(42)"
   ]
  },
  {
   "cell_type": "markdown",
   "metadata": {},
   "source": [
    "# Data Preprocessing"
   ]
  },
  {
   "cell_type": "code",
   "execution_count": 2,
   "metadata": {},
   "outputs": [],
   "source": [
    "le=preprocessing.LabelEncoder()\n",
    "df = pd.read_csv('train.csv')\n",
    "df=df.dropna()\n",
    "# df['birth_year']=df['birth_year'].apply(lambda x:year(x))\n",
    "df['join_year']=pd.DatetimeIndex(df['join_date']).year.values\n",
    "df['join_month']=pd.DatetimeIndex(df['join_date'],dayfirst=True).month.values\n",
    "df['occupation_code']=le.fit_transform(df['occupation_code'])\n",
    "df['age']=df['join_year']-df['birth_year']\n",
    "del(df['join_date'])\n",
    "# del(df['join_year'])\n",
    "# del(df['birth_year'])\n",
    "df=df[['ID']+list(df.columns.values[-3:])+list(df.columns.values[1:-3])]\n"
   ]
  },
  {
   "cell_type": "code",
   "execution_count": 3,
   "metadata": {
    "scrolled": true
   },
   "outputs": [
    {
     "data": {
      "text/html": [
       "<div>\n",
       "<style scoped>\n",
       "    .dataframe tbody tr th:only-of-type {\n",
       "        vertical-align: middle;\n",
       "    }\n",
       "\n",
       "    .dataframe tbody tr th {\n",
       "        vertical-align: top;\n",
       "    }\n",
       "\n",
       "    .dataframe thead th {\n",
       "        text-align: right;\n",
       "    }\n",
       "</style>\n",
       "<table border=\"1\" class=\"dataframe\">\n",
       "  <thead>\n",
       "    <tr style=\"text-align: right;\">\n",
       "      <th></th>\n",
       "      <th>ID</th>\n",
       "      <th>join_year</th>\n",
       "      <th>join_month</th>\n",
       "      <th>age</th>\n",
       "      <th>sex</th>\n",
       "      <th>marital_status</th>\n",
       "      <th>birth_year</th>\n",
       "      <th>branch_code</th>\n",
       "      <th>occupation_code</th>\n",
       "      <th>occupation_category_code</th>\n",
       "      <th>...</th>\n",
       "      <th>AHXO</th>\n",
       "      <th>BSTQ</th>\n",
       "      <th>FM3X</th>\n",
       "      <th>K6QO</th>\n",
       "      <th>QBOL</th>\n",
       "      <th>JWFN</th>\n",
       "      <th>JZ9D</th>\n",
       "      <th>J9JW</th>\n",
       "      <th>GHYX</th>\n",
       "      <th>ECY3</th>\n",
       "    </tr>\n",
       "  </thead>\n",
       "  <tbody>\n",
       "    <tr>\n",
       "      <th>0</th>\n",
       "      <td>4WKQSBB</td>\n",
       "      <td>2019</td>\n",
       "      <td>2</td>\n",
       "      <td>32</td>\n",
       "      <td>F</td>\n",
       "      <td>M</td>\n",
       "      <td>1987</td>\n",
       "      <td>1X1H</td>\n",
       "      <td>17</td>\n",
       "      <td>T4MS</td>\n",
       "      <td>...</td>\n",
       "      <td>0</td>\n",
       "      <td>0</td>\n",
       "      <td>0</td>\n",
       "      <td>1</td>\n",
       "      <td>0</td>\n",
       "      <td>0</td>\n",
       "      <td>0</td>\n",
       "      <td>0</td>\n",
       "      <td>0</td>\n",
       "      <td>0</td>\n",
       "    </tr>\n",
       "    <tr>\n",
       "      <th>1</th>\n",
       "      <td>CP5S02H</td>\n",
       "      <td>2019</td>\n",
       "      <td>6</td>\n",
       "      <td>38</td>\n",
       "      <td>F</td>\n",
       "      <td>M</td>\n",
       "      <td>1981</td>\n",
       "      <td>UAOD</td>\n",
       "      <td>17</td>\n",
       "      <td>T4MS</td>\n",
       "      <td>...</td>\n",
       "      <td>0</td>\n",
       "      <td>0</td>\n",
       "      <td>0</td>\n",
       "      <td>1</td>\n",
       "      <td>0</td>\n",
       "      <td>0</td>\n",
       "      <td>0</td>\n",
       "      <td>0</td>\n",
       "      <td>0</td>\n",
       "      <td>0</td>\n",
       "    </tr>\n",
       "    <tr>\n",
       "      <th>2</th>\n",
       "      <td>2YKDILJ</td>\n",
       "      <td>2013</td>\n",
       "      <td>6</td>\n",
       "      <td>22</td>\n",
       "      <td>M</td>\n",
       "      <td>U</td>\n",
       "      <td>1991</td>\n",
       "      <td>748L</td>\n",
       "      <td>176</td>\n",
       "      <td>90QI</td>\n",
       "      <td>...</td>\n",
       "      <td>0</td>\n",
       "      <td>0</td>\n",
       "      <td>0</td>\n",
       "      <td>0</td>\n",
       "      <td>0</td>\n",
       "      <td>0</td>\n",
       "      <td>0</td>\n",
       "      <td>0</td>\n",
       "      <td>0</td>\n",
       "      <td>1</td>\n",
       "    </tr>\n",
       "    <tr>\n",
       "      <th>3</th>\n",
       "      <td>2S9E81J</td>\n",
       "      <td>2019</td>\n",
       "      <td>8</td>\n",
       "      <td>29</td>\n",
       "      <td>M</td>\n",
       "      <td>M</td>\n",
       "      <td>1990</td>\n",
       "      <td>1X1H</td>\n",
       "      <td>76</td>\n",
       "      <td>56SI</td>\n",
       "      <td>...</td>\n",
       "      <td>0</td>\n",
       "      <td>0</td>\n",
       "      <td>0</td>\n",
       "      <td>1</td>\n",
       "      <td>0</td>\n",
       "      <td>0</td>\n",
       "      <td>0</td>\n",
       "      <td>0</td>\n",
       "      <td>0</td>\n",
       "      <td>0</td>\n",
       "    </tr>\n",
       "    <tr>\n",
       "      <th>4</th>\n",
       "      <td>BHDYVFT</td>\n",
       "      <td>2019</td>\n",
       "      <td>8</td>\n",
       "      <td>29</td>\n",
       "      <td>M</td>\n",
       "      <td>M</td>\n",
       "      <td>1990</td>\n",
       "      <td>748L</td>\n",
       "      <td>148</td>\n",
       "      <td>T4MS</td>\n",
       "      <td>...</td>\n",
       "      <td>0</td>\n",
       "      <td>0</td>\n",
       "      <td>0</td>\n",
       "      <td>0</td>\n",
       "      <td>0</td>\n",
       "      <td>0</td>\n",
       "      <td>1</td>\n",
       "      <td>1</td>\n",
       "      <td>0</td>\n",
       "      <td>0</td>\n",
       "    </tr>\n",
       "    <tr>\n",
       "      <th>...</th>\n",
       "      <td>...</td>\n",
       "      <td>...</td>\n",
       "      <td>...</td>\n",
       "      <td>...</td>\n",
       "      <td>...</td>\n",
       "      <td>...</td>\n",
       "      <td>...</td>\n",
       "      <td>...</td>\n",
       "      <td>...</td>\n",
       "      <td>...</td>\n",
       "      <td>...</td>\n",
       "      <td>...</td>\n",
       "      <td>...</td>\n",
       "      <td>...</td>\n",
       "      <td>...</td>\n",
       "      <td>...</td>\n",
       "      <td>...</td>\n",
       "      <td>...</td>\n",
       "      <td>...</td>\n",
       "      <td>...</td>\n",
       "      <td>...</td>\n",
       "    </tr>\n",
       "    <tr>\n",
       "      <th>29127</th>\n",
       "      <td>8SBA93U</td>\n",
       "      <td>2019</td>\n",
       "      <td>9</td>\n",
       "      <td>45</td>\n",
       "      <td>F</td>\n",
       "      <td>M</td>\n",
       "      <td>1974</td>\n",
       "      <td>748L</td>\n",
       "      <td>17</td>\n",
       "      <td>T4MS</td>\n",
       "      <td>...</td>\n",
       "      <td>0</td>\n",
       "      <td>0</td>\n",
       "      <td>0</td>\n",
       "      <td>1</td>\n",
       "      <td>0</td>\n",
       "      <td>0</td>\n",
       "      <td>0</td>\n",
       "      <td>0</td>\n",
       "      <td>0</td>\n",
       "      <td>0</td>\n",
       "    </tr>\n",
       "    <tr>\n",
       "      <th>29128</th>\n",
       "      <td>Y73ETTO</td>\n",
       "      <td>2018</td>\n",
       "      <td>11</td>\n",
       "      <td>31</td>\n",
       "      <td>M</td>\n",
       "      <td>M</td>\n",
       "      <td>1987</td>\n",
       "      <td>XX25</td>\n",
       "      <td>170</td>\n",
       "      <td>90QI</td>\n",
       "      <td>...</td>\n",
       "      <td>0</td>\n",
       "      <td>0</td>\n",
       "      <td>0</td>\n",
       "      <td>1</td>\n",
       "      <td>0</td>\n",
       "      <td>0</td>\n",
       "      <td>0</td>\n",
       "      <td>0</td>\n",
       "      <td>0</td>\n",
       "      <td>0</td>\n",
       "    </tr>\n",
       "    <tr>\n",
       "      <th>29129</th>\n",
       "      <td>MVXG2LC</td>\n",
       "      <td>2019</td>\n",
       "      <td>2</td>\n",
       "      <td>34</td>\n",
       "      <td>M</td>\n",
       "      <td>M</td>\n",
       "      <td>1985</td>\n",
       "      <td>BOAS</td>\n",
       "      <td>44</td>\n",
       "      <td>T4MS</td>\n",
       "      <td>...</td>\n",
       "      <td>0</td>\n",
       "      <td>0</td>\n",
       "      <td>0</td>\n",
       "      <td>1</td>\n",
       "      <td>0</td>\n",
       "      <td>0</td>\n",
       "      <td>0</td>\n",
       "      <td>0</td>\n",
       "      <td>0</td>\n",
       "      <td>0</td>\n",
       "    </tr>\n",
       "    <tr>\n",
       "      <th>29130</th>\n",
       "      <td>BUQ8DQN</td>\n",
       "      <td>2019</td>\n",
       "      <td>7</td>\n",
       "      <td>30</td>\n",
       "      <td>M</td>\n",
       "      <td>M</td>\n",
       "      <td>1989</td>\n",
       "      <td>UAOD</td>\n",
       "      <td>17</td>\n",
       "      <td>T4MS</td>\n",
       "      <td>...</td>\n",
       "      <td>0</td>\n",
       "      <td>0</td>\n",
       "      <td>0</td>\n",
       "      <td>1</td>\n",
       "      <td>0</td>\n",
       "      <td>0</td>\n",
       "      <td>0</td>\n",
       "      <td>0</td>\n",
       "      <td>0</td>\n",
       "      <td>0</td>\n",
       "    </tr>\n",
       "    <tr>\n",
       "      <th>29131</th>\n",
       "      <td>DEJBWYU</td>\n",
       "      <td>2020</td>\n",
       "      <td>3</td>\n",
       "      <td>45</td>\n",
       "      <td>M</td>\n",
       "      <td>M</td>\n",
       "      <td>1975</td>\n",
       "      <td>94KC</td>\n",
       "      <td>28</td>\n",
       "      <td>90QI</td>\n",
       "      <td>...</td>\n",
       "      <td>0</td>\n",
       "      <td>0</td>\n",
       "      <td>0</td>\n",
       "      <td>1</td>\n",
       "      <td>0</td>\n",
       "      <td>0</td>\n",
       "      <td>0</td>\n",
       "      <td>0</td>\n",
       "      <td>0</td>\n",
       "      <td>0</td>\n",
       "    </tr>\n",
       "  </tbody>\n",
       "</table>\n",
       "<p>29130 rows × 31 columns</p>\n",
       "</div>"
      ],
      "text/plain": [
       "            ID  join_year  join_month  age sex marital_status  birth_year  \\\n",
       "0      4WKQSBB       2019           2   32   F              M        1987   \n",
       "1      CP5S02H       2019           6   38   F              M        1981   \n",
       "2      2YKDILJ       2013           6   22   M              U        1991   \n",
       "3      2S9E81J       2019           8   29   M              M        1990   \n",
       "4      BHDYVFT       2019           8   29   M              M        1990   \n",
       "...        ...        ...         ...  ...  ..            ...         ...   \n",
       "29127  8SBA93U       2019           9   45   F              M        1974   \n",
       "29128  Y73ETTO       2018          11   31   M              M        1987   \n",
       "29129  MVXG2LC       2019           2   34   M              M        1985   \n",
       "29130  BUQ8DQN       2019           7   30   M              M        1989   \n",
       "29131  DEJBWYU       2020           3   45   M              M        1975   \n",
       "\n",
       "      branch_code  occupation_code occupation_category_code  ...  AHXO  BSTQ  \\\n",
       "0            1X1H               17                     T4MS  ...     0     0   \n",
       "1            UAOD               17                     T4MS  ...     0     0   \n",
       "2            748L              176                     90QI  ...     0     0   \n",
       "3            1X1H               76                     56SI  ...     0     0   \n",
       "4            748L              148                     T4MS  ...     0     0   \n",
       "...           ...              ...                      ...  ...   ...   ...   \n",
       "29127        748L               17                     T4MS  ...     0     0   \n",
       "29128        XX25              170                     90QI  ...     0     0   \n",
       "29129        BOAS               44                     T4MS  ...     0     0   \n",
       "29130        UAOD               17                     T4MS  ...     0     0   \n",
       "29131        94KC               28                     90QI  ...     0     0   \n",
       "\n",
       "       FM3X  K6QO  QBOL  JWFN  JZ9D  J9JW  GHYX  ECY3  \n",
       "0         0     1     0     0     0     0     0     0  \n",
       "1         0     1     0     0     0     0     0     0  \n",
       "2         0     0     0     0     0     0     0     1  \n",
       "3         0     1     0     0     0     0     0     0  \n",
       "4         0     0     0     0     1     1     0     0  \n",
       "...     ...   ...   ...   ...   ...   ...   ...   ...  \n",
       "29127     0     1     0     0     0     0     0     0  \n",
       "29128     0     1     0     0     0     0     0     0  \n",
       "29129     0     1     0     0     0     0     0     0  \n",
       "29130     0     1     0     0     0     0     0     0  \n",
       "29131     0     1     0     0     0     0     0     0  \n",
       "\n",
       "[29130 rows x 31 columns]"
      ]
     },
     "execution_count": 3,
     "metadata": {},
     "output_type": "execute_result"
    }
   ],
   "source": [
    "df"
   ]
  },
  {
   "cell_type": "code",
   "execution_count": 4,
   "metadata": {},
   "outputs": [],
   "source": [
    "# join_year = list(df['join_year'].unique())\n",
    "# join_month = list(df['join_month'].unique())\n",
    "age = list(df['age'].unique())\n",
    "sex=list(df['sex'].unique())\n",
    "marital_status=list(df['marital_status'].unique())\n",
    "branch_code=list(df['branch_code'].unique())\n",
    "occupation_code=list(df['occupation_code'].unique())\n",
    "occupation_category_code=list(df['occupation_category_code'].unique())\n",
    "# birth_year=list(df['birth_year'].unique())\n"
   ]
  },
  {
   "cell_type": "code",
   "execution_count": 5,
   "metadata": {},
   "outputs": [],
   "source": [
    "if torch.cuda.is_available():\n",
    "    device = torch.device('cuda:0')\n",
    "else:\n",
    "    device = torch.device('cpu')"
   ]
  },
  {
   "cell_type": "code",
   "execution_count": 6,
   "metadata": {},
   "outputs": [
    {
     "data": {
      "text/html": [
       "<div>\n",
       "<style scoped>\n",
       "    .dataframe tbody tr th:only-of-type {\n",
       "        vertical-align: middle;\n",
       "    }\n",
       "\n",
       "    .dataframe tbody tr th {\n",
       "        vertical-align: top;\n",
       "    }\n",
       "\n",
       "    .dataframe thead th {\n",
       "        text-align: right;\n",
       "    }\n",
       "</style>\n",
       "<table border=\"1\" class=\"dataframe\">\n",
       "  <thead>\n",
       "    <tr style=\"text-align: right;\">\n",
       "      <th></th>\n",
       "      <th>ID</th>\n",
       "      <th>join_year</th>\n",
       "      <th>join_month</th>\n",
       "      <th>age</th>\n",
       "      <th>sex</th>\n",
       "      <th>marital_status</th>\n",
       "      <th>birth_year</th>\n",
       "      <th>branch_code</th>\n",
       "      <th>occupation_code</th>\n",
       "      <th>occupation_category_code</th>\n",
       "      <th>...</th>\n",
       "      <th>AHXO</th>\n",
       "      <th>BSTQ</th>\n",
       "      <th>FM3X</th>\n",
       "      <th>K6QO</th>\n",
       "      <th>QBOL</th>\n",
       "      <th>JWFN</th>\n",
       "      <th>JZ9D</th>\n",
       "      <th>J9JW</th>\n",
       "      <th>GHYX</th>\n",
       "      <th>ECY3</th>\n",
       "    </tr>\n",
       "  </thead>\n",
       "  <tbody>\n",
       "    <tr>\n",
       "      <th>0</th>\n",
       "      <td>4WKQSBB</td>\n",
       "      <td>2019</td>\n",
       "      <td>2</td>\n",
       "      <td>32</td>\n",
       "      <td>F</td>\n",
       "      <td>M</td>\n",
       "      <td>1987</td>\n",
       "      <td>1X1H</td>\n",
       "      <td>17</td>\n",
       "      <td>T4MS</td>\n",
       "      <td>...</td>\n",
       "      <td>0</td>\n",
       "      <td>0</td>\n",
       "      <td>0</td>\n",
       "      <td>1</td>\n",
       "      <td>0</td>\n",
       "      <td>0</td>\n",
       "      <td>0</td>\n",
       "      <td>0</td>\n",
       "      <td>0</td>\n",
       "      <td>0</td>\n",
       "    </tr>\n",
       "    <tr>\n",
       "      <th>1</th>\n",
       "      <td>CP5S02H</td>\n",
       "      <td>2019</td>\n",
       "      <td>6</td>\n",
       "      <td>38</td>\n",
       "      <td>F</td>\n",
       "      <td>M</td>\n",
       "      <td>1981</td>\n",
       "      <td>UAOD</td>\n",
       "      <td>17</td>\n",
       "      <td>T4MS</td>\n",
       "      <td>...</td>\n",
       "      <td>0</td>\n",
       "      <td>0</td>\n",
       "      <td>0</td>\n",
       "      <td>1</td>\n",
       "      <td>0</td>\n",
       "      <td>0</td>\n",
       "      <td>0</td>\n",
       "      <td>0</td>\n",
       "      <td>0</td>\n",
       "      <td>0</td>\n",
       "    </tr>\n",
       "    <tr>\n",
       "      <th>2</th>\n",
       "      <td>2YKDILJ</td>\n",
       "      <td>2013</td>\n",
       "      <td>6</td>\n",
       "      <td>22</td>\n",
       "      <td>M</td>\n",
       "      <td>U</td>\n",
       "      <td>1991</td>\n",
       "      <td>748L</td>\n",
       "      <td>176</td>\n",
       "      <td>90QI</td>\n",
       "      <td>...</td>\n",
       "      <td>0</td>\n",
       "      <td>0</td>\n",
       "      <td>0</td>\n",
       "      <td>0</td>\n",
       "      <td>0</td>\n",
       "      <td>0</td>\n",
       "      <td>0</td>\n",
       "      <td>0</td>\n",
       "      <td>0</td>\n",
       "      <td>1</td>\n",
       "    </tr>\n",
       "    <tr>\n",
       "      <th>3</th>\n",
       "      <td>2S9E81J</td>\n",
       "      <td>2019</td>\n",
       "      <td>8</td>\n",
       "      <td>29</td>\n",
       "      <td>M</td>\n",
       "      <td>M</td>\n",
       "      <td>1990</td>\n",
       "      <td>1X1H</td>\n",
       "      <td>76</td>\n",
       "      <td>56SI</td>\n",
       "      <td>...</td>\n",
       "      <td>0</td>\n",
       "      <td>0</td>\n",
       "      <td>0</td>\n",
       "      <td>1</td>\n",
       "      <td>0</td>\n",
       "      <td>0</td>\n",
       "      <td>0</td>\n",
       "      <td>0</td>\n",
       "      <td>0</td>\n",
       "      <td>0</td>\n",
       "    </tr>\n",
       "    <tr>\n",
       "      <th>4</th>\n",
       "      <td>BHDYVFT</td>\n",
       "      <td>2019</td>\n",
       "      <td>8</td>\n",
       "      <td>29</td>\n",
       "      <td>M</td>\n",
       "      <td>M</td>\n",
       "      <td>1990</td>\n",
       "      <td>748L</td>\n",
       "      <td>148</td>\n",
       "      <td>T4MS</td>\n",
       "      <td>...</td>\n",
       "      <td>0</td>\n",
       "      <td>0</td>\n",
       "      <td>0</td>\n",
       "      <td>0</td>\n",
       "      <td>0</td>\n",
       "      <td>0</td>\n",
       "      <td>1</td>\n",
       "      <td>1</td>\n",
       "      <td>0</td>\n",
       "      <td>0</td>\n",
       "    </tr>\n",
       "    <tr>\n",
       "      <th>...</th>\n",
       "      <td>...</td>\n",
       "      <td>...</td>\n",
       "      <td>...</td>\n",
       "      <td>...</td>\n",
       "      <td>...</td>\n",
       "      <td>...</td>\n",
       "      <td>...</td>\n",
       "      <td>...</td>\n",
       "      <td>...</td>\n",
       "      <td>...</td>\n",
       "      <td>...</td>\n",
       "      <td>...</td>\n",
       "      <td>...</td>\n",
       "      <td>...</td>\n",
       "      <td>...</td>\n",
       "      <td>...</td>\n",
       "      <td>...</td>\n",
       "      <td>...</td>\n",
       "      <td>...</td>\n",
       "      <td>...</td>\n",
       "      <td>...</td>\n",
       "    </tr>\n",
       "    <tr>\n",
       "      <th>29127</th>\n",
       "      <td>8SBA93U</td>\n",
       "      <td>2019</td>\n",
       "      <td>9</td>\n",
       "      <td>45</td>\n",
       "      <td>F</td>\n",
       "      <td>M</td>\n",
       "      <td>1974</td>\n",
       "      <td>748L</td>\n",
       "      <td>17</td>\n",
       "      <td>T4MS</td>\n",
       "      <td>...</td>\n",
       "      <td>0</td>\n",
       "      <td>0</td>\n",
       "      <td>0</td>\n",
       "      <td>1</td>\n",
       "      <td>0</td>\n",
       "      <td>0</td>\n",
       "      <td>0</td>\n",
       "      <td>0</td>\n",
       "      <td>0</td>\n",
       "      <td>0</td>\n",
       "    </tr>\n",
       "    <tr>\n",
       "      <th>29128</th>\n",
       "      <td>Y73ETTO</td>\n",
       "      <td>2018</td>\n",
       "      <td>11</td>\n",
       "      <td>31</td>\n",
       "      <td>M</td>\n",
       "      <td>M</td>\n",
       "      <td>1987</td>\n",
       "      <td>XX25</td>\n",
       "      <td>170</td>\n",
       "      <td>90QI</td>\n",
       "      <td>...</td>\n",
       "      <td>0</td>\n",
       "      <td>0</td>\n",
       "      <td>0</td>\n",
       "      <td>1</td>\n",
       "      <td>0</td>\n",
       "      <td>0</td>\n",
       "      <td>0</td>\n",
       "      <td>0</td>\n",
       "      <td>0</td>\n",
       "      <td>0</td>\n",
       "    </tr>\n",
       "    <tr>\n",
       "      <th>29129</th>\n",
       "      <td>MVXG2LC</td>\n",
       "      <td>2019</td>\n",
       "      <td>2</td>\n",
       "      <td>34</td>\n",
       "      <td>M</td>\n",
       "      <td>M</td>\n",
       "      <td>1985</td>\n",
       "      <td>BOAS</td>\n",
       "      <td>44</td>\n",
       "      <td>T4MS</td>\n",
       "      <td>...</td>\n",
       "      <td>0</td>\n",
       "      <td>0</td>\n",
       "      <td>0</td>\n",
       "      <td>1</td>\n",
       "      <td>0</td>\n",
       "      <td>0</td>\n",
       "      <td>0</td>\n",
       "      <td>0</td>\n",
       "      <td>0</td>\n",
       "      <td>0</td>\n",
       "    </tr>\n",
       "    <tr>\n",
       "      <th>29130</th>\n",
       "      <td>BUQ8DQN</td>\n",
       "      <td>2019</td>\n",
       "      <td>7</td>\n",
       "      <td>30</td>\n",
       "      <td>M</td>\n",
       "      <td>M</td>\n",
       "      <td>1989</td>\n",
       "      <td>UAOD</td>\n",
       "      <td>17</td>\n",
       "      <td>T4MS</td>\n",
       "      <td>...</td>\n",
       "      <td>0</td>\n",
       "      <td>0</td>\n",
       "      <td>0</td>\n",
       "      <td>1</td>\n",
       "      <td>0</td>\n",
       "      <td>0</td>\n",
       "      <td>0</td>\n",
       "      <td>0</td>\n",
       "      <td>0</td>\n",
       "      <td>0</td>\n",
       "    </tr>\n",
       "    <tr>\n",
       "      <th>29131</th>\n",
       "      <td>DEJBWYU</td>\n",
       "      <td>2020</td>\n",
       "      <td>3</td>\n",
       "      <td>45</td>\n",
       "      <td>M</td>\n",
       "      <td>M</td>\n",
       "      <td>1975</td>\n",
       "      <td>94KC</td>\n",
       "      <td>28</td>\n",
       "      <td>90QI</td>\n",
       "      <td>...</td>\n",
       "      <td>0</td>\n",
       "      <td>0</td>\n",
       "      <td>0</td>\n",
       "      <td>1</td>\n",
       "      <td>0</td>\n",
       "      <td>0</td>\n",
       "      <td>0</td>\n",
       "      <td>0</td>\n",
       "      <td>0</td>\n",
       "      <td>0</td>\n",
       "    </tr>\n",
       "  </tbody>\n",
       "</table>\n",
       "<p>29130 rows × 31 columns</p>\n",
       "</div>"
      ],
      "text/plain": [
       "            ID  join_year  join_month  age sex marital_status  birth_year  \\\n",
       "0      4WKQSBB       2019           2   32   F              M        1987   \n",
       "1      CP5S02H       2019           6   38   F              M        1981   \n",
       "2      2YKDILJ       2013           6   22   M              U        1991   \n",
       "3      2S9E81J       2019           8   29   M              M        1990   \n",
       "4      BHDYVFT       2019           8   29   M              M        1990   \n",
       "...        ...        ...         ...  ...  ..            ...         ...   \n",
       "29127  8SBA93U       2019           9   45   F              M        1974   \n",
       "29128  Y73ETTO       2018          11   31   M              M        1987   \n",
       "29129  MVXG2LC       2019           2   34   M              M        1985   \n",
       "29130  BUQ8DQN       2019           7   30   M              M        1989   \n",
       "29131  DEJBWYU       2020           3   45   M              M        1975   \n",
       "\n",
       "      branch_code  occupation_code occupation_category_code  ...  AHXO  BSTQ  \\\n",
       "0            1X1H               17                     T4MS  ...     0     0   \n",
       "1            UAOD               17                     T4MS  ...     0     0   \n",
       "2            748L              176                     90QI  ...     0     0   \n",
       "3            1X1H               76                     56SI  ...     0     0   \n",
       "4            748L              148                     T4MS  ...     0     0   \n",
       "...           ...              ...                      ...  ...   ...   ...   \n",
       "29127        748L               17                     T4MS  ...     0     0   \n",
       "29128        XX25              170                     90QI  ...     0     0   \n",
       "29129        BOAS               44                     T4MS  ...     0     0   \n",
       "29130        UAOD               17                     T4MS  ...     0     0   \n",
       "29131        94KC               28                     90QI  ...     0     0   \n",
       "\n",
       "       FM3X  K6QO  QBOL  JWFN  JZ9D  J9JW  GHYX  ECY3  \n",
       "0         0     1     0     0     0     0     0     0  \n",
       "1         0     1     0     0     0     0     0     0  \n",
       "2         0     0     0     0     0     0     0     1  \n",
       "3         0     1     0     0     0     0     0     0  \n",
       "4         0     0     0     0     1     1     0     0  \n",
       "...     ...   ...   ...   ...   ...   ...   ...   ...  \n",
       "29127     0     1     0     0     0     0     0     0  \n",
       "29128     0     1     0     0     0     0     0     0  \n",
       "29129     0     1     0     0     0     0     0     0  \n",
       "29130     0     1     0     0     0     0     0     0  \n",
       "29131     0     1     0     0     0     0     0     0  \n",
       "\n",
       "[29130 rows x 31 columns]"
      ]
     },
     "execution_count": 6,
     "metadata": {},
     "output_type": "execute_result"
    }
   ],
   "source": [
    "#train_x=torch.tensor([list(df['ID'].unique()).index(item) for item in list(df['ID'])]).to(device)\n",
    "df"
   ]
  },
  {
   "cell_type": "markdown",
   "metadata": {},
   "source": [
    "# Model Building"
   ]
  },
  {
   "cell_type": "code",
   "execution_count": null,
   "metadata": {},
   "outputs": [],
   "source": []
  },
  {
   "cell_type": "code",
   "execution_count": 7,
   "metadata": {},
   "outputs": [],
   "source": [
    "#0.09 model\n",
    "\n",
    "class MatrixFactorization(torch.nn.Module):\n",
    "    \n",
    "    def __init__(self, n_items, n_factors=20):\n",
    "        super().__init__()\n",
    "        self.item_factors = torch.nn.Embedding(n_items, n_factors)\n",
    "        self.item_biases = torch.nn.Embedding(n_items,n_factors)\n",
    "        torch.nn.init.xavier_uniform_(self.item_factors.weight)\n",
    "        self.item_biases.weight.data.fill_(1.)\n",
    "        \n",
    "        self.sex_factors = torch.nn.Embedding(len(sex), n_factors)\n",
    "        self.sex_biases = torch.nn.Embedding(len(sex), n_factors)\n",
    "        torch.nn.init.xavier_uniform_(self.sex_factors.weight)\n",
    "        self.sex_biases.weight.data.fill_(1.)\n",
    "        \n",
    "        self.age_factors = torch.nn.Embedding(len(age), n_factors)\n",
    "        self.age_biases = torch.nn.Embedding(len(age), n_factors)\n",
    "        torch.nn.init.xavier_uniform_(self.age_factors.weight)\n",
    "        self.age_biases.weight.data.fill_(1.)\n",
    "        \n",
    "#         self.join_year_factors = torch.nn.Embedding(len(join_year), n_factors)\n",
    "#         self.join_year_biases = torch.nn.Embedding(len(join_year), n_factors)\n",
    "#         torch.nn.init.xavier_uniform_(self.join_year_factors.weight)\n",
    "#         self.join_year_biases.weight.data.fill_(1.)\n",
    "        \n",
    "#         self.join_month_factors = torch.nn.Embedding(len(join_month), n_factors)\n",
    "#         self.join_month_biases = torch.nn.Embedding(len(join_month), n_factors)\n",
    "#         torch.nn.init.xavier_uniform_(self.join_month_factors.weight)\n",
    "#         self.join_month_biases.weight.data.fill_(1.)\n",
    "        \n",
    "        self.marital_status_factors = torch.nn.Embedding(len(marital_status), n_factors)\n",
    "        self.marital_status_biases = torch.nn.Embedding(len(marital_status), n_factors)\n",
    "        torch.nn.init.xavier_uniform_(self.marital_status_factors.weight)\n",
    "        self.marital_status_biases.weight.data.fill_(1.)\n",
    "        \n",
    "        self.branch_code_factors = torch.nn.Embedding(len(branch_code), n_factors)\n",
    "        self.branch_code_biases = torch.nn.Embedding(len(branch_code), n_factors)\n",
    "        torch.nn.init.xavier_uniform_(self.branch_code_factors.weight)\n",
    "        self.branch_code_biases.weight.data.fill_(1.)\n",
    "        \n",
    "#         self.occupation_code_factors = torch.nn.Embedding(len(occupation_code), n_factors)\n",
    "#         self.occupation_code_biases = torch.nn.Embedding(len(occupation_code), n_factors)\n",
    "#         torch.nn.init.xavier_uniform_(self.occupation_code_factors.weight)\n",
    "#         self.occupation_code_biases.weight.data.fill_(1.)\n",
    "        \n",
    "        self.occupation_category_code_factors = torch.nn.Embedding(len(occupation_category_code), n_factors)\n",
    "        self.occupation_category_code_biases = torch.nn.Embedding(len(occupation_category_code), n_factors)\n",
    "        torch.nn.init.xavier_uniform_(self.occupation_category_code_factors.weight)\n",
    "        self.occupation_category_code_biases.weight.data.fill_(1.)\n",
    "        \n",
    "#         self.birth_year_factors = torch.nn.Embedding(len(birth_year), n_factors)\n",
    "#         self.birth_year_biases = torch.nn.Embedding(len(birth_year), n_factors)\n",
    "#         torch.nn.init.xavier_uniform_(self.birth_year_factors.weight)\n",
    "#         self.birth_year_biases.weight.data.fill_(1.)\n",
    "        \n",
    "\n",
    "#         self.fc1 = nn.Linear(8192,2048)\n",
    "#         self.fc2 = nn.Linear(4096,2048)\n",
    "#         self.fc3 = nn.Linear(2048,1024)\n",
    "#         self.fc4 = nn.Linear(1024,512)\n",
    "#         self.fc5 = nn.Linear(512,128)\n",
    "#         self.fc6 = nn.Linear(128,64)\n",
    "#         self.fc7 = nn.Linear(64,32)\n",
    "#         self.fc8 = nn.Linear(32,21)\n",
    "        \n",
    "    def forward(self, inpt):\n",
    "        \n",
    "        array=inpt[0].T\n",
    "        sex_i = torch.tensor([sex.index(item) for item in array[4]],dtype=torch.long).to(device)\n",
    "        age_i = torch.tensor([age.index(item) for item in array[3]],dtype=torch.long).to(device)\n",
    "        marital_status_i = torch.tensor([marital_status.index(item) for item in array[5]],dtype=torch.long).to(device)\n",
    "        branch_code_i = torch.tensor([branch_code.index(item) for item in array[7]],dtype=torch.long).to(device)\n",
    "        occupation_code_i = torch.tensor([occupation_code.index(item) for item in array[8]],dtype=torch.long).to(device)\n",
    "        occupation_category_code_i = torch.tensor([occupation_category_code.index(item) for item in array[9]],dtype=torch.long).to(device)\n",
    "#         birth_year_i = torch.tensor([birth_year.index(item) for item in array[5]],dtype=torch.long).to(device)\n",
    "#         join_month_i = torch.tensor([join_month.index(item) for item in array[2]],dtype=torch.long).to(device)\n",
    "#         join_year_i = torch.tensor([join_year.index(item) for item in array[1]],dtype=torch.long).to(device)\n",
    "        \n",
    "\n",
    "        \n",
    "#         pred += torch.mm(self.sex_factors(sex_i), model.item_factors(torch.tensor(list(np.arange(21)),dtype=torch.long).to(device)).T)\n",
    "#         pred += torch.mm(self.marital_status_factors(marital_status_i), model.item_factors(torch.tensor(list(np.arange(21)),dtype=torch.long).to(device)).T)\n",
    "#         pred += torch.mm(self.branch_code_factors(branch_code_i), model.item_factors(torch.tensor(list(np.arange(21)),dtype=torch.long).to(device)).T)\n",
    "#         pred += torch.mm(self.occupation_category_code_factors(occupation_category_code_i), model.item_factors(torch.tensor(list(np.arange(21)),dtype=torch.long).to(device)).T)\n",
    "#         pred += torch.mm(self.birth_year_factors(birth_year_i), model.item_factors(torch.tensor(list(np.arange(21)),dtype=torch.long).to(device)).T)\n",
    "        user_biases = self.age_biases(age_i) + self.sex_biases(sex_i) + self.marital_status_biases(marital_status_i) + self.branch_code_biases(branch_code_i) + self.occupation_category_code_biases(occupation_category_code_i)\n",
    "        item_biases = self.item_biases(torch.tensor(list(np.arange(21)),dtype=torch.long).to(device)).T\n",
    "        \n",
    "        user_factors = self.age_factors(age_i)+ self.sex_factors(sex_i)+self.marital_status_factors(marital_status_i)+self.branch_code_factors(branch_code_i)+self.occupation_category_code_factors(occupation_category_code_i)\n",
    "        item_factors = self.item_factors(torch.tensor(list(np.arange(21)),dtype=torch.long).to(device)).T\n",
    "        \n",
    "        user = user_factors \n",
    "        item = item_factors \n",
    "        pred = torch.mm(user_biases,item_biases)\n",
    "        pred += torch.mm(user,item )\n",
    "        \n",
    "#         pred = abs(F.normalize(self.fc1(pred)))\n",
    "# #         pred = F.normalize(self.fc2(pred))\n",
    "#         pred = abs(F.normalize(self.fc3(pred)))\n",
    "#         pred = F.normalize(self.fc4(pred))\n",
    "#         pred = abs(F.normalize(self.fc5(pred)))\n",
    "#         pred = self.fc6(pred)\n",
    "#         pred = self.fc7(pred)\n",
    "#         pred = self.fc8(pred)\n",
    "        \n",
    "        pred = abs(F.normalize(pred))\n",
    "\n",
    "        \n",
    "        return pred\n",
    "    \n",
    "nfactor = 750\n",
    "model = MatrixFactorization(21, n_factors=nfactor).to(device)"
   ]
  },
  {
   "cell_type": "code",
   "execution_count": 8,
   "metadata": {},
   "outputs": [
    {
     "data": {
      "text/html": [
       "<div>\n",
       "<style scoped>\n",
       "    .dataframe tbody tr th:only-of-type {\n",
       "        vertical-align: middle;\n",
       "    }\n",
       "\n",
       "    .dataframe tbody tr th {\n",
       "        vertical-align: top;\n",
       "    }\n",
       "\n",
       "    .dataframe thead th {\n",
       "        text-align: right;\n",
       "    }\n",
       "</style>\n",
       "<table border=\"1\" class=\"dataframe\">\n",
       "  <thead>\n",
       "    <tr style=\"text-align: right;\">\n",
       "      <th></th>\n",
       "      <th>ID</th>\n",
       "      <th>join_year</th>\n",
       "      <th>join_month</th>\n",
       "      <th>age</th>\n",
       "      <th>sex</th>\n",
       "      <th>marital_status</th>\n",
       "      <th>birth_year</th>\n",
       "      <th>branch_code</th>\n",
       "      <th>occupation_code</th>\n",
       "      <th>occupation_category_code</th>\n",
       "      <th>...</th>\n",
       "      <th>AHXO</th>\n",
       "      <th>BSTQ</th>\n",
       "      <th>FM3X</th>\n",
       "      <th>K6QO</th>\n",
       "      <th>QBOL</th>\n",
       "      <th>JWFN</th>\n",
       "      <th>JZ9D</th>\n",
       "      <th>J9JW</th>\n",
       "      <th>GHYX</th>\n",
       "      <th>ECY3</th>\n",
       "    </tr>\n",
       "  </thead>\n",
       "  <tbody>\n",
       "    <tr>\n",
       "      <th>0</th>\n",
       "      <td>4WKQSBB</td>\n",
       "      <td>2019</td>\n",
       "      <td>2</td>\n",
       "      <td>32</td>\n",
       "      <td>F</td>\n",
       "      <td>M</td>\n",
       "      <td>1987</td>\n",
       "      <td>1X1H</td>\n",
       "      <td>17</td>\n",
       "      <td>T4MS</td>\n",
       "      <td>...</td>\n",
       "      <td>0</td>\n",
       "      <td>0</td>\n",
       "      <td>0</td>\n",
       "      <td>1</td>\n",
       "      <td>0</td>\n",
       "      <td>0</td>\n",
       "      <td>0</td>\n",
       "      <td>0</td>\n",
       "      <td>0</td>\n",
       "      <td>0</td>\n",
       "    </tr>\n",
       "    <tr>\n",
       "      <th>1</th>\n",
       "      <td>CP5S02H</td>\n",
       "      <td>2019</td>\n",
       "      <td>6</td>\n",
       "      <td>38</td>\n",
       "      <td>F</td>\n",
       "      <td>M</td>\n",
       "      <td>1981</td>\n",
       "      <td>UAOD</td>\n",
       "      <td>17</td>\n",
       "      <td>T4MS</td>\n",
       "      <td>...</td>\n",
       "      <td>0</td>\n",
       "      <td>0</td>\n",
       "      <td>0</td>\n",
       "      <td>1</td>\n",
       "      <td>0</td>\n",
       "      <td>0</td>\n",
       "      <td>0</td>\n",
       "      <td>0</td>\n",
       "      <td>0</td>\n",
       "      <td>0</td>\n",
       "    </tr>\n",
       "    <tr>\n",
       "      <th>2</th>\n",
       "      <td>2YKDILJ</td>\n",
       "      <td>2013</td>\n",
       "      <td>6</td>\n",
       "      <td>22</td>\n",
       "      <td>M</td>\n",
       "      <td>U</td>\n",
       "      <td>1991</td>\n",
       "      <td>748L</td>\n",
       "      <td>176</td>\n",
       "      <td>90QI</td>\n",
       "      <td>...</td>\n",
       "      <td>0</td>\n",
       "      <td>0</td>\n",
       "      <td>0</td>\n",
       "      <td>0</td>\n",
       "      <td>0</td>\n",
       "      <td>0</td>\n",
       "      <td>0</td>\n",
       "      <td>0</td>\n",
       "      <td>0</td>\n",
       "      <td>1</td>\n",
       "    </tr>\n",
       "    <tr>\n",
       "      <th>3</th>\n",
       "      <td>2S9E81J</td>\n",
       "      <td>2019</td>\n",
       "      <td>8</td>\n",
       "      <td>29</td>\n",
       "      <td>M</td>\n",
       "      <td>M</td>\n",
       "      <td>1990</td>\n",
       "      <td>1X1H</td>\n",
       "      <td>76</td>\n",
       "      <td>56SI</td>\n",
       "      <td>...</td>\n",
       "      <td>0</td>\n",
       "      <td>0</td>\n",
       "      <td>0</td>\n",
       "      <td>1</td>\n",
       "      <td>0</td>\n",
       "      <td>0</td>\n",
       "      <td>0</td>\n",
       "      <td>0</td>\n",
       "      <td>0</td>\n",
       "      <td>0</td>\n",
       "    </tr>\n",
       "    <tr>\n",
       "      <th>4</th>\n",
       "      <td>BHDYVFT</td>\n",
       "      <td>2019</td>\n",
       "      <td>8</td>\n",
       "      <td>29</td>\n",
       "      <td>M</td>\n",
       "      <td>M</td>\n",
       "      <td>1990</td>\n",
       "      <td>748L</td>\n",
       "      <td>148</td>\n",
       "      <td>T4MS</td>\n",
       "      <td>...</td>\n",
       "      <td>0</td>\n",
       "      <td>0</td>\n",
       "      <td>0</td>\n",
       "      <td>0</td>\n",
       "      <td>0</td>\n",
       "      <td>0</td>\n",
       "      <td>1</td>\n",
       "      <td>1</td>\n",
       "      <td>0</td>\n",
       "      <td>0</td>\n",
       "    </tr>\n",
       "  </tbody>\n",
       "</table>\n",
       "<p>5 rows × 31 columns</p>\n",
       "</div>"
      ],
      "text/plain": [
       "        ID  join_year  join_month  age sex marital_status  birth_year  \\\n",
       "0  4WKQSBB       2019           2   32   F              M        1987   \n",
       "1  CP5S02H       2019           6   38   F              M        1981   \n",
       "2  2YKDILJ       2013           6   22   M              U        1991   \n",
       "3  2S9E81J       2019           8   29   M              M        1990   \n",
       "4  BHDYVFT       2019           8   29   M              M        1990   \n",
       "\n",
       "  branch_code  occupation_code occupation_category_code  ...  AHXO  BSTQ  \\\n",
       "0        1X1H               17                     T4MS  ...     0     0   \n",
       "1        UAOD               17                     T4MS  ...     0     0   \n",
       "2        748L              176                     90QI  ...     0     0   \n",
       "3        1X1H               76                     56SI  ...     0     0   \n",
       "4        748L              148                     T4MS  ...     0     0   \n",
       "\n",
       "   FM3X  K6QO  QBOL  JWFN  JZ9D  J9JW  GHYX  ECY3  \n",
       "0     0     1     0     0     0     0     0     0  \n",
       "1     0     1     0     0     0     0     0     0  \n",
       "2     0     0     0     0     0     0     0     1  \n",
       "3     0     1     0     0     0     0     0     0  \n",
       "4     0     0     0     0     1     1     0     0  \n",
       "\n",
       "[5 rows x 31 columns]"
      ]
     },
     "execution_count": 8,
     "metadata": {},
     "output_type": "execute_result"
    }
   ],
   "source": [
    "df.head()"
   ]
  },
  {
   "cell_type": "markdown",
   "metadata": {},
   "source": [
    "# Trainig the Model"
   ]
  },
  {
   "cell_type": "code",
   "execution_count": 9,
   "metadata": {
    "scrolled": false
   },
   "outputs": [
    {
     "name": "stderr",
     "output_type": "stream",
     "text": [
      "  1%|          | 1/120 [00:00<01:26,  1.38it/s]"
     ]
    },
    {
     "name": "stdout",
     "output_type": "stream",
     "text": [
      "tensor(0.3839, device='cuda:0', grad_fn=<DivBackward0>)\n"
     ]
    },
    {
     "name": "stderr",
     "output_type": "stream",
     "text": [
      "\r",
      "  2%|▏         | 2/120 [00:01<01:15,  1.57it/s]"
     ]
    },
    {
     "name": "stdout",
     "output_type": "stream",
     "text": [
      "tensor(0.3810, device='cuda:0', grad_fn=<DivBackward0>)\n"
     ]
    },
    {
     "name": "stderr",
     "output_type": "stream",
     "text": [
      "\r",
      "  2%|▎         | 3/120 [00:01<01:08,  1.72it/s]"
     ]
    },
    {
     "name": "stdout",
     "output_type": "stream",
     "text": [
      "tensor(0.3781, device='cuda:0', grad_fn=<DivBackward0>)\n"
     ]
    },
    {
     "name": "stderr",
     "output_type": "stream",
     "text": [
      "\r",
      "  3%|▎         | 4/120 [00:02<01:02,  1.86it/s]"
     ]
    },
    {
     "name": "stdout",
     "output_type": "stream",
     "text": [
      "tensor(0.3750, device='cuda:0', grad_fn=<DivBackward0>)\n"
     ]
    },
    {
     "name": "stderr",
     "output_type": "stream",
     "text": [
      "\r",
      "  4%|▍         | 5/120 [00:02<00:58,  1.98it/s]"
     ]
    },
    {
     "name": "stdout",
     "output_type": "stream",
     "text": [
      "tensor(0.3718, device='cuda:0', grad_fn=<DivBackward0>)\n"
     ]
    },
    {
     "name": "stderr",
     "output_type": "stream",
     "text": [
      "\r",
      "  5%|▌         | 6/120 [00:02<00:55,  2.04it/s]"
     ]
    },
    {
     "name": "stdout",
     "output_type": "stream",
     "text": [
      "tensor(0.3685, device='cuda:0', grad_fn=<DivBackward0>)\n"
     ]
    },
    {
     "name": "stderr",
     "output_type": "stream",
     "text": [
      "\r",
      "  6%|▌         | 7/120 [00:03<00:54,  2.08it/s]"
     ]
    },
    {
     "name": "stdout",
     "output_type": "stream",
     "text": [
      "tensor(0.3651, device='cuda:0', grad_fn=<DivBackward0>)\n"
     ]
    },
    {
     "name": "stderr",
     "output_type": "stream",
     "text": [
      "\r",
      "  7%|▋         | 8/120 [00:03<00:51,  2.17it/s]"
     ]
    },
    {
     "name": "stdout",
     "output_type": "stream",
     "text": [
      "tensor(0.3616, device='cuda:0', grad_fn=<DivBackward0>)\n"
     ]
    },
    {
     "name": "stderr",
     "output_type": "stream",
     "text": [
      "\r",
      "  8%|▊         | 9/120 [00:04<00:50,  2.21it/s]"
     ]
    },
    {
     "name": "stdout",
     "output_type": "stream",
     "text": [
      "tensor(0.3579, device='cuda:0', grad_fn=<DivBackward0>)\n"
     ]
    },
    {
     "name": "stderr",
     "output_type": "stream",
     "text": [
      "\r",
      "  8%|▊         | 10/120 [00:04<00:47,  2.30it/s]"
     ]
    },
    {
     "name": "stdout",
     "output_type": "stream",
     "text": [
      "tensor(0.3540, device='cuda:0', grad_fn=<DivBackward0>)\n"
     ]
    },
    {
     "name": "stderr",
     "output_type": "stream",
     "text": [
      "\r",
      "  9%|▉         | 11/120 [00:05<00:47,  2.32it/s]"
     ]
    },
    {
     "name": "stdout",
     "output_type": "stream",
     "text": [
      "tensor(0.3500, device='cuda:0', grad_fn=<DivBackward0>)\n"
     ]
    },
    {
     "name": "stderr",
     "output_type": "stream",
     "text": [
      "\r",
      " 10%|█         | 12/120 [00:05<00:46,  2.32it/s]"
     ]
    },
    {
     "name": "stdout",
     "output_type": "stream",
     "text": [
      "tensor(0.3457, device='cuda:0', grad_fn=<DivBackward0>)\n"
     ]
    },
    {
     "name": "stderr",
     "output_type": "stream",
     "text": [
      "\r",
      " 11%|█         | 13/120 [00:05<00:45,  2.35it/s]"
     ]
    },
    {
     "name": "stdout",
     "output_type": "stream",
     "text": [
      "tensor(0.3413, device='cuda:0', grad_fn=<DivBackward0>)\n"
     ]
    },
    {
     "name": "stderr",
     "output_type": "stream",
     "text": [
      "\r",
      " 12%|█▏        | 14/120 [00:06<00:44,  2.39it/s]"
     ]
    },
    {
     "name": "stdout",
     "output_type": "stream",
     "text": [
      "tensor(0.3366, device='cuda:0', grad_fn=<DivBackward0>)\n"
     ]
    },
    {
     "name": "stderr",
     "output_type": "stream",
     "text": [
      "\r",
      " 12%|█▎        | 15/120 [00:06<00:43,  2.41it/s]"
     ]
    },
    {
     "name": "stdout",
     "output_type": "stream",
     "text": [
      "tensor(0.3317, device='cuda:0', grad_fn=<DivBackward0>)\n"
     ]
    },
    {
     "name": "stderr",
     "output_type": "stream",
     "text": [
      "\r",
      " 13%|█▎        | 16/120 [00:07<00:42,  2.43it/s]"
     ]
    },
    {
     "name": "stdout",
     "output_type": "stream",
     "text": [
      "tensor(0.3265, device='cuda:0', grad_fn=<DivBackward0>)\n"
     ]
    },
    {
     "name": "stderr",
     "output_type": "stream",
     "text": [
      "\r",
      " 14%|█▍        | 17/120 [00:07<00:43,  2.38it/s]"
     ]
    },
    {
     "name": "stdout",
     "output_type": "stream",
     "text": [
      "tensor(0.3211, device='cuda:0', grad_fn=<DivBackward0>)\n"
     ]
    },
    {
     "name": "stderr",
     "output_type": "stream",
     "text": [
      "\r",
      " 15%|█▌        | 18/120 [00:07<00:42,  2.42it/s]"
     ]
    },
    {
     "name": "stdout",
     "output_type": "stream",
     "text": [
      "tensor(0.3153, device='cuda:0', grad_fn=<DivBackward0>)\n"
     ]
    },
    {
     "name": "stderr",
     "output_type": "stream",
     "text": [
      "\r",
      " 16%|█▌        | 19/120 [00:08<00:41,  2.44it/s]"
     ]
    },
    {
     "name": "stdout",
     "output_type": "stream",
     "text": [
      "tensor(0.3092, device='cuda:0', grad_fn=<DivBackward0>)\n"
     ]
    },
    {
     "name": "stderr",
     "output_type": "stream",
     "text": [
      "\r",
      " 17%|█▋        | 20/120 [00:08<00:41,  2.42it/s]"
     ]
    },
    {
     "name": "stdout",
     "output_type": "stream",
     "text": [
      "tensor(0.3028, device='cuda:0', grad_fn=<DivBackward0>)\n"
     ]
    },
    {
     "name": "stderr",
     "output_type": "stream",
     "text": [
      "\r",
      " 18%|█▊        | 21/120 [00:09<00:40,  2.44it/s]"
     ]
    },
    {
     "name": "stdout",
     "output_type": "stream",
     "text": [
      "tensor(0.2959, device='cuda:0', grad_fn=<DivBackward0>)\n"
     ]
    },
    {
     "name": "stderr",
     "output_type": "stream",
     "text": [
      "\r",
      " 18%|█▊        | 22/120 [00:09<00:40,  2.42it/s]"
     ]
    },
    {
     "name": "stdout",
     "output_type": "stream",
     "text": [
      "tensor(0.2887, device='cuda:0', grad_fn=<DivBackward0>)\n"
     ]
    },
    {
     "name": "stderr",
     "output_type": "stream",
     "text": [
      "\r",
      " 19%|█▉        | 23/120 [00:10<00:40,  2.41it/s]"
     ]
    },
    {
     "name": "stdout",
     "output_type": "stream",
     "text": [
      "tensor(0.2811, device='cuda:0', grad_fn=<DivBackward0>)\n"
     ]
    },
    {
     "name": "stderr",
     "output_type": "stream",
     "text": [
      "\r",
      " 20%|██        | 24/120 [00:10<00:39,  2.40it/s]"
     ]
    },
    {
     "name": "stdout",
     "output_type": "stream",
     "text": [
      "tensor(0.2730, device='cuda:0', grad_fn=<DivBackward0>)\n"
     ]
    },
    {
     "name": "stderr",
     "output_type": "stream",
     "text": [
      "\r",
      " 21%|██        | 25/120 [00:10<00:39,  2.38it/s]"
     ]
    },
    {
     "name": "stdout",
     "output_type": "stream",
     "text": [
      "tensor(0.2643, device='cuda:0', grad_fn=<DivBackward0>)\n"
     ]
    },
    {
     "name": "stderr",
     "output_type": "stream",
     "text": [
      "\r",
      " 22%|██▏       | 26/120 [00:11<00:39,  2.40it/s]"
     ]
    },
    {
     "name": "stdout",
     "output_type": "stream",
     "text": [
      "tensor(0.2550, device='cuda:0', grad_fn=<DivBackward0>)\n"
     ]
    },
    {
     "name": "stderr",
     "output_type": "stream",
     "text": [
      "\r",
      " 22%|██▎       | 27/120 [00:11<00:38,  2.38it/s]"
     ]
    },
    {
     "name": "stdout",
     "output_type": "stream",
     "text": [
      "tensor(0.2453, device='cuda:0', grad_fn=<DivBackward0>)\n"
     ]
    },
    {
     "name": "stderr",
     "output_type": "stream",
     "text": [
      "\r",
      " 23%|██▎       | 28/120 [00:12<00:38,  2.37it/s]"
     ]
    },
    {
     "name": "stdout",
     "output_type": "stream",
     "text": [
      "tensor(0.2350, device='cuda:0', grad_fn=<DivBackward0>)\n"
     ]
    },
    {
     "name": "stderr",
     "output_type": "stream",
     "text": [
      "\r",
      " 24%|██▍       | 29/120 [00:12<00:39,  2.33it/s]"
     ]
    },
    {
     "name": "stdout",
     "output_type": "stream",
     "text": [
      "tensor(0.2243, device='cuda:0', grad_fn=<DivBackward0>)\n"
     ]
    },
    {
     "name": "stderr",
     "output_type": "stream",
     "text": [
      "\r",
      " 25%|██▌       | 30/120 [00:12<00:38,  2.34it/s]"
     ]
    },
    {
     "name": "stdout",
     "output_type": "stream",
     "text": [
      "tensor(0.2133, device='cuda:0', grad_fn=<DivBackward0>)\n"
     ]
    },
    {
     "name": "stderr",
     "output_type": "stream",
     "text": [
      "\r",
      " 26%|██▌       | 31/120 [00:13<00:37,  2.35it/s]"
     ]
    },
    {
     "name": "stdout",
     "output_type": "stream",
     "text": [
      "tensor(0.2023, device='cuda:0', grad_fn=<DivBackward0>)\n"
     ]
    },
    {
     "name": "stderr",
     "output_type": "stream",
     "text": [
      "\r",
      " 27%|██▋       | 32/120 [00:13<00:37,  2.36it/s]"
     ]
    },
    {
     "name": "stdout",
     "output_type": "stream",
     "text": [
      "tensor(0.1917, device='cuda:0', grad_fn=<DivBackward0>)\n"
     ]
    },
    {
     "name": "stderr",
     "output_type": "stream",
     "text": [
      "\r",
      " 28%|██▊       | 33/120 [00:14<00:36,  2.35it/s]"
     ]
    },
    {
     "name": "stdout",
     "output_type": "stream",
     "text": [
      "tensor(0.1819, device='cuda:0', grad_fn=<DivBackward0>)\n"
     ]
    },
    {
     "name": "stderr",
     "output_type": "stream",
     "text": [
      "\r",
      " 28%|██▊       | 34/120 [00:14<00:36,  2.34it/s]"
     ]
    },
    {
     "name": "stdout",
     "output_type": "stream",
     "text": [
      "tensor(0.1733, device='cuda:0', grad_fn=<DivBackward0>)\n"
     ]
    },
    {
     "name": "stderr",
     "output_type": "stream",
     "text": [
      "\r",
      " 29%|██▉       | 35/120 [00:15<00:36,  2.31it/s]"
     ]
    },
    {
     "name": "stdout",
     "output_type": "stream",
     "text": [
      "tensor(0.1679, device='cuda:0', grad_fn=<DivBackward0>)\n"
     ]
    },
    {
     "name": "stderr",
     "output_type": "stream",
     "text": [
      "\r",
      " 30%|███       | 36/120 [00:15<00:37,  2.27it/s]"
     ]
    },
    {
     "name": "stdout",
     "output_type": "stream",
     "text": [
      "tensor(0.1666, device='cuda:0', grad_fn=<DivBackward0>)\n"
     ]
    },
    {
     "name": "stderr",
     "output_type": "stream",
     "text": [
      "\r",
      " 31%|███       | 37/120 [00:16<00:37,  2.24it/s]"
     ]
    },
    {
     "name": "stdout",
     "output_type": "stream",
     "text": [
      "tensor(0.1655, device='cuda:0', grad_fn=<DivBackward0>)\n"
     ]
    },
    {
     "name": "stderr",
     "output_type": "stream",
     "text": [
      "\r",
      " 32%|███▏      | 38/120 [00:16<00:36,  2.25it/s]"
     ]
    },
    {
     "name": "stdout",
     "output_type": "stream",
     "text": [
      "tensor(0.1645, device='cuda:0', grad_fn=<DivBackward0>)\n"
     ]
    },
    {
     "name": "stderr",
     "output_type": "stream",
     "text": [
      "\r",
      " 32%|███▎      | 39/120 [00:16<00:35,  2.27it/s]"
     ]
    },
    {
     "name": "stdout",
     "output_type": "stream",
     "text": [
      "tensor(0.1640, device='cuda:0', grad_fn=<DivBackward0>)\n"
     ]
    },
    {
     "name": "stderr",
     "output_type": "stream",
     "text": [
      "\r",
      " 33%|███▎      | 40/120 [00:17<00:34,  2.35it/s]"
     ]
    },
    {
     "name": "stdout",
     "output_type": "stream",
     "text": [
      "tensor(0.1632, device='cuda:0', grad_fn=<DivBackward0>)\n"
     ]
    },
    {
     "name": "stderr",
     "output_type": "stream",
     "text": [
      "\r",
      " 34%|███▍      | 41/120 [00:17<00:33,  2.38it/s]"
     ]
    },
    {
     "name": "stdout",
     "output_type": "stream",
     "text": [
      "tensor(0.1627, device='cuda:0', grad_fn=<DivBackward0>)\n"
     ]
    },
    {
     "name": "stderr",
     "output_type": "stream",
     "text": [
      "\r",
      " 35%|███▌      | 42/120 [00:18<00:32,  2.37it/s]"
     ]
    },
    {
     "name": "stdout",
     "output_type": "stream",
     "text": [
      "tensor(0.1622, device='cuda:0', grad_fn=<DivBackward0>)\n"
     ]
    },
    {
     "name": "stderr",
     "output_type": "stream",
     "text": [
      "\r",
      " 36%|███▌      | 43/120 [00:18<00:32,  2.37it/s]"
     ]
    },
    {
     "name": "stdout",
     "output_type": "stream",
     "text": [
      "tensor(0.1616, device='cuda:0', grad_fn=<DivBackward0>)\n"
     ]
    },
    {
     "name": "stderr",
     "output_type": "stream",
     "text": [
      "\r",
      " 37%|███▋      | 44/120 [00:18<00:32,  2.36it/s]"
     ]
    },
    {
     "name": "stdout",
     "output_type": "stream",
     "text": [
      "tensor(0.1613, device='cuda:0', grad_fn=<DivBackward0>)\n"
     ]
    },
    {
     "name": "stderr",
     "output_type": "stream",
     "text": [
      "\r",
      " 38%|███▊      | 45/120 [00:19<00:31,  2.39it/s]"
     ]
    },
    {
     "name": "stdout",
     "output_type": "stream",
     "text": [
      "tensor(0.1613, device='cuda:0', grad_fn=<DivBackward0>)\n"
     ]
    },
    {
     "name": "stderr",
     "output_type": "stream",
     "text": [
      "\r",
      " 38%|███▊      | 46/120 [00:19<00:31,  2.39it/s]"
     ]
    },
    {
     "name": "stdout",
     "output_type": "stream",
     "text": [
      "tensor(0.1606, device='cuda:0', grad_fn=<DivBackward0>)\n"
     ]
    },
    {
     "name": "stderr",
     "output_type": "stream",
     "text": [
      "\r",
      " 39%|███▉      | 47/120 [00:20<00:30,  2.39it/s]"
     ]
    },
    {
     "name": "stdout",
     "output_type": "stream",
     "text": [
      "tensor(0.1602, device='cuda:0', grad_fn=<DivBackward0>)\n"
     ]
    },
    {
     "name": "stderr",
     "output_type": "stream",
     "text": [
      "\r",
      " 40%|████      | 48/120 [00:20<00:29,  2.41it/s]"
     ]
    },
    {
     "name": "stdout",
     "output_type": "stream",
     "text": [
      "tensor(0.1596, device='cuda:0', grad_fn=<DivBackward0>)\n"
     ]
    },
    {
     "name": "stderr",
     "output_type": "stream",
     "text": [
      "\r",
      " 41%|████      | 49/120 [00:21<00:30,  2.35it/s]"
     ]
    },
    {
     "name": "stdout",
     "output_type": "stream",
     "text": [
      "tensor(0.1594, device='cuda:0', grad_fn=<DivBackward0>)\n"
     ]
    },
    {
     "name": "stderr",
     "output_type": "stream",
     "text": [
      "\r",
      " 42%|████▏     | 50/120 [00:21<00:29,  2.37it/s]"
     ]
    },
    {
     "name": "stdout",
     "output_type": "stream",
     "text": [
      "tensor(0.1591, device='cuda:0', grad_fn=<DivBackward0>)\n"
     ]
    },
    {
     "name": "stderr",
     "output_type": "stream",
     "text": [
      "\r",
      " 42%|████▎     | 51/120 [00:21<00:28,  2.42it/s]"
     ]
    },
    {
     "name": "stdout",
     "output_type": "stream",
     "text": [
      "tensor(0.1589, device='cuda:0', grad_fn=<DivBackward0>)\n"
     ]
    },
    {
     "name": "stderr",
     "output_type": "stream",
     "text": [
      "\r",
      " 43%|████▎     | 52/120 [00:22<00:28,  2.40it/s]"
     ]
    },
    {
     "name": "stdout",
     "output_type": "stream",
     "text": [
      "tensor(0.1587, device='cuda:0', grad_fn=<DivBackward0>)\n"
     ]
    },
    {
     "name": "stderr",
     "output_type": "stream",
     "text": [
      "\r",
      " 44%|████▍     | 53/120 [00:22<00:27,  2.40it/s]"
     ]
    },
    {
     "name": "stdout",
     "output_type": "stream",
     "text": [
      "tensor(0.1585, device='cuda:0', grad_fn=<DivBackward0>)\n"
     ]
    },
    {
     "name": "stderr",
     "output_type": "stream",
     "text": [
      "\r",
      " 45%|████▌     | 54/120 [00:23<00:27,  2.37it/s]"
     ]
    },
    {
     "name": "stdout",
     "output_type": "stream",
     "text": [
      "tensor(0.1583, device='cuda:0', grad_fn=<DivBackward0>)\n"
     ]
    },
    {
     "name": "stderr",
     "output_type": "stream",
     "text": [
      "\r",
      " 46%|████▌     | 55/120 [00:23<00:27,  2.37it/s]"
     ]
    },
    {
     "name": "stdout",
     "output_type": "stream",
     "text": [
      "tensor(0.1581, device='cuda:0', grad_fn=<DivBackward0>)\n"
     ]
    },
    {
     "name": "stderr",
     "output_type": "stream",
     "text": [
      "\r",
      " 47%|████▋     | 56/120 [00:24<00:26,  2.39it/s]"
     ]
    },
    {
     "name": "stdout",
     "output_type": "stream",
     "text": [
      "tensor(0.1582, device='cuda:0', grad_fn=<DivBackward0>)\n"
     ]
    },
    {
     "name": "stderr",
     "output_type": "stream",
     "text": [
      "\r",
      " 48%|████▊     | 57/120 [00:24<00:26,  2.36it/s]"
     ]
    },
    {
     "name": "stdout",
     "output_type": "stream",
     "text": [
      "tensor(0.1581, device='cuda:0', grad_fn=<DivBackward0>)\n"
     ]
    },
    {
     "name": "stderr",
     "output_type": "stream",
     "text": [
      "\r",
      " 48%|████▊     | 58/120 [00:24<00:26,  2.36it/s]"
     ]
    },
    {
     "name": "stdout",
     "output_type": "stream",
     "text": [
      "tensor(0.1585, device='cuda:0', grad_fn=<DivBackward0>)\n"
     ]
    },
    {
     "name": "stderr",
     "output_type": "stream",
     "text": [
      "\r",
      " 49%|████▉     | 59/120 [00:25<00:25,  2.36it/s]"
     ]
    },
    {
     "name": "stdout",
     "output_type": "stream",
     "text": [
      "tensor(0.1586, device='cuda:0', grad_fn=<DivBackward0>)\n"
     ]
    },
    {
     "name": "stderr",
     "output_type": "stream",
     "text": [
      "\r",
      " 50%|█████     | 60/120 [00:25<00:25,  2.32it/s]"
     ]
    },
    {
     "name": "stdout",
     "output_type": "stream",
     "text": [
      "tensor(0.1579, device='cuda:0', grad_fn=<DivBackward0>)\n"
     ]
    },
    {
     "name": "stderr",
     "output_type": "stream",
     "text": [
      "\r",
      " 51%|█████     | 61/120 [00:26<00:25,  2.29it/s]"
     ]
    },
    {
     "name": "stdout",
     "output_type": "stream",
     "text": [
      "tensor(0.1578, device='cuda:0', grad_fn=<DivBackward0>)\n"
     ]
    },
    {
     "name": "stderr",
     "output_type": "stream",
     "text": [
      "\r",
      " 52%|█████▏    | 62/120 [00:26<00:26,  2.23it/s]"
     ]
    },
    {
     "name": "stdout",
     "output_type": "stream",
     "text": [
      "tensor(0.1576, device='cuda:0', grad_fn=<DivBackward0>)\n"
     ]
    },
    {
     "name": "stderr",
     "output_type": "stream",
     "text": [
      "\r",
      " 52%|█████▎    | 63/120 [00:27<00:25,  2.22it/s]"
     ]
    },
    {
     "name": "stdout",
     "output_type": "stream",
     "text": [
      "tensor(0.1577, device='cuda:0', grad_fn=<DivBackward0>)\n"
     ]
    },
    {
     "name": "stderr",
     "output_type": "stream",
     "text": [
      "\r",
      " 53%|█████▎    | 64/120 [00:27<00:25,  2.22it/s]"
     ]
    },
    {
     "name": "stdout",
     "output_type": "stream",
     "text": [
      "tensor(0.1576, device='cuda:0', grad_fn=<DivBackward0>)\n"
     ]
    },
    {
     "name": "stderr",
     "output_type": "stream",
     "text": [
      "\r",
      " 54%|█████▍    | 65/120 [00:28<00:24,  2.23it/s]"
     ]
    },
    {
     "name": "stdout",
     "output_type": "stream",
     "text": [
      "tensor(0.1576, device='cuda:0', grad_fn=<DivBackward0>)\n"
     ]
    },
    {
     "name": "stderr",
     "output_type": "stream",
     "text": [
      "\r",
      " 55%|█████▌    | 66/120 [00:28<00:24,  2.21it/s]"
     ]
    },
    {
     "name": "stdout",
     "output_type": "stream",
     "text": [
      "tensor(0.1576, device='cuda:0', grad_fn=<DivBackward0>)\n"
     ]
    },
    {
     "name": "stderr",
     "output_type": "stream",
     "text": [
      "\r",
      " 56%|█████▌    | 67/120 [00:28<00:23,  2.23it/s]"
     ]
    },
    {
     "name": "stdout",
     "output_type": "stream",
     "text": [
      "tensor(0.1575, device='cuda:0', grad_fn=<DivBackward0>)\n"
     ]
    },
    {
     "name": "stderr",
     "output_type": "stream",
     "text": [
      "\r",
      " 57%|█████▋    | 68/120 [00:29<00:22,  2.28it/s]"
     ]
    },
    {
     "name": "stdout",
     "output_type": "stream",
     "text": [
      "tensor(0.1575, device='cuda:0', grad_fn=<DivBackward0>)\n"
     ]
    },
    {
     "name": "stderr",
     "output_type": "stream",
     "text": [
      "\r",
      " 57%|█████▊    | 69/120 [00:29<00:22,  2.31it/s]"
     ]
    },
    {
     "name": "stdout",
     "output_type": "stream",
     "text": [
      "tensor(0.1575, device='cuda:0', grad_fn=<DivBackward0>)\n"
     ]
    },
    {
     "name": "stderr",
     "output_type": "stream",
     "text": [
      "\r",
      " 58%|█████▊    | 70/120 [00:30<00:21,  2.32it/s]"
     ]
    },
    {
     "name": "stdout",
     "output_type": "stream",
     "text": [
      "tensor(0.1572, device='cuda:0', grad_fn=<DivBackward0>)\n"
     ]
    },
    {
     "name": "stderr",
     "output_type": "stream",
     "text": [
      "\r",
      " 59%|█████▉    | 71/120 [00:30<00:21,  2.29it/s]"
     ]
    },
    {
     "name": "stdout",
     "output_type": "stream",
     "text": [
      "tensor(0.1574, device='cuda:0', grad_fn=<DivBackward0>)\n"
     ]
    },
    {
     "name": "stderr",
     "output_type": "stream",
     "text": [
      "\r",
      " 60%|██████    | 72/120 [00:31<00:20,  2.32it/s]"
     ]
    },
    {
     "name": "stdout",
     "output_type": "stream",
     "text": [
      "tensor(0.1575, device='cuda:0', grad_fn=<DivBackward0>)\n"
     ]
    },
    {
     "name": "stderr",
     "output_type": "stream",
     "text": [
      "\r",
      " 61%|██████    | 73/120 [00:31<00:20,  2.29it/s]"
     ]
    },
    {
     "name": "stdout",
     "output_type": "stream",
     "text": [
      "tensor(0.1575, device='cuda:0', grad_fn=<DivBackward0>)\n"
     ]
    },
    {
     "name": "stderr",
     "output_type": "stream",
     "text": [
      "\r",
      " 62%|██████▏   | 74/120 [00:31<00:19,  2.32it/s]"
     ]
    },
    {
     "name": "stdout",
     "output_type": "stream",
     "text": [
      "tensor(0.1573, device='cuda:0', grad_fn=<DivBackward0>)\n"
     ]
    },
    {
     "name": "stderr",
     "output_type": "stream",
     "text": [
      "\r",
      " 62%|██████▎   | 75/120 [00:32<00:19,  2.34it/s]"
     ]
    },
    {
     "name": "stdout",
     "output_type": "stream",
     "text": [
      "tensor(0.1571, device='cuda:0', grad_fn=<DivBackward0>)\n"
     ]
    },
    {
     "name": "stderr",
     "output_type": "stream",
     "text": [
      "\r",
      " 63%|██████▎   | 76/120 [00:32<00:18,  2.36it/s]"
     ]
    },
    {
     "name": "stdout",
     "output_type": "stream",
     "text": [
      "tensor(0.1572, device='cuda:0', grad_fn=<DivBackward0>)\n"
     ]
    },
    {
     "name": "stderr",
     "output_type": "stream",
     "text": [
      "\r",
      " 64%|██████▍   | 77/120 [00:33<00:18,  2.36it/s]"
     ]
    },
    {
     "name": "stdout",
     "output_type": "stream",
     "text": [
      "tensor(0.1571, device='cuda:0', grad_fn=<DivBackward0>)\n"
     ]
    },
    {
     "name": "stderr",
     "output_type": "stream",
     "text": [
      "\r",
      " 65%|██████▌   | 78/120 [00:33<00:17,  2.37it/s]"
     ]
    },
    {
     "name": "stdout",
     "output_type": "stream",
     "text": [
      "tensor(0.1571, device='cuda:0', grad_fn=<DivBackward0>)\n"
     ]
    },
    {
     "name": "stderr",
     "output_type": "stream",
     "text": [
      "\r",
      " 66%|██████▌   | 79/120 [00:34<00:17,  2.34it/s]"
     ]
    },
    {
     "name": "stdout",
     "output_type": "stream",
     "text": [
      "tensor(0.1568, device='cuda:0', grad_fn=<DivBackward0>)\n"
     ]
    },
    {
     "name": "stderr",
     "output_type": "stream",
     "text": [
      "\r",
      " 67%|██████▋   | 80/120 [00:34<00:16,  2.39it/s]"
     ]
    },
    {
     "name": "stdout",
     "output_type": "stream",
     "text": [
      "tensor(0.1569, device='cuda:0', grad_fn=<DivBackward0>)\n"
     ]
    },
    {
     "name": "stderr",
     "output_type": "stream",
     "text": [
      "\r",
      " 68%|██████▊   | 81/120 [00:34<00:16,  2.38it/s]"
     ]
    },
    {
     "name": "stdout",
     "output_type": "stream",
     "text": [
      "tensor(0.1570, device='cuda:0', grad_fn=<DivBackward0>)\n"
     ]
    },
    {
     "name": "stderr",
     "output_type": "stream",
     "text": [
      "\r",
      " 68%|██████▊   | 82/120 [00:35<00:15,  2.39it/s]"
     ]
    },
    {
     "name": "stdout",
     "output_type": "stream",
     "text": [
      "tensor(0.1569, device='cuda:0', grad_fn=<DivBackward0>)\n"
     ]
    },
    {
     "name": "stderr",
     "output_type": "stream",
     "text": [
      "\r",
      " 69%|██████▉   | 83/120 [00:35<00:15,  2.36it/s]"
     ]
    },
    {
     "name": "stdout",
     "output_type": "stream",
     "text": [
      "tensor(0.1569, device='cuda:0', grad_fn=<DivBackward0>)\n"
     ]
    },
    {
     "name": "stderr",
     "output_type": "stream",
     "text": [
      "\r",
      " 70%|███████   | 84/120 [00:36<00:15,  2.33it/s]"
     ]
    },
    {
     "name": "stdout",
     "output_type": "stream",
     "text": [
      "tensor(0.1567, device='cuda:0', grad_fn=<DivBackward0>)\n"
     ]
    },
    {
     "name": "stderr",
     "output_type": "stream",
     "text": [
      "\r",
      " 71%|███████   | 85/120 [00:36<00:15,  2.30it/s]"
     ]
    },
    {
     "name": "stdout",
     "output_type": "stream",
     "text": [
      "tensor(0.1567, device='cuda:0', grad_fn=<DivBackward0>)\n"
     ]
    },
    {
     "name": "stderr",
     "output_type": "stream",
     "text": [
      "\r",
      " 72%|███████▏  | 86/120 [00:37<00:14,  2.29it/s]"
     ]
    },
    {
     "name": "stdout",
     "output_type": "stream",
     "text": [
      "tensor(0.1565, device='cuda:0', grad_fn=<DivBackward0>)\n"
     ]
    },
    {
     "name": "stderr",
     "output_type": "stream",
     "text": [
      "\r",
      " 72%|███████▎  | 87/120 [00:37<00:14,  2.35it/s]"
     ]
    },
    {
     "name": "stdout",
     "output_type": "stream",
     "text": [
      "tensor(0.1566, device='cuda:0', grad_fn=<DivBackward0>)\n"
     ]
    },
    {
     "name": "stderr",
     "output_type": "stream",
     "text": [
      "\r",
      " 73%|███████▎  | 88/120 [00:37<00:13,  2.33it/s]"
     ]
    },
    {
     "name": "stdout",
     "output_type": "stream",
     "text": [
      "tensor(0.1566, device='cuda:0', grad_fn=<DivBackward0>)\n"
     ]
    },
    {
     "name": "stderr",
     "output_type": "stream",
     "text": [
      "\r",
      " 74%|███████▍  | 89/120 [00:38<00:13,  2.25it/s]"
     ]
    },
    {
     "name": "stdout",
     "output_type": "stream",
     "text": [
      "tensor(0.1566, device='cuda:0', grad_fn=<DivBackward0>)\n"
     ]
    },
    {
     "name": "stderr",
     "output_type": "stream",
     "text": [
      "\r",
      " 75%|███████▌  | 90/120 [00:38<00:13,  2.28it/s]"
     ]
    },
    {
     "name": "stdout",
     "output_type": "stream",
     "text": [
      "tensor(0.1565, device='cuda:0', grad_fn=<DivBackward0>)\n"
     ]
    },
    {
     "name": "stderr",
     "output_type": "stream",
     "text": [
      "\r",
      " 76%|███████▌  | 91/120 [00:39<00:12,  2.25it/s]"
     ]
    },
    {
     "name": "stdout",
     "output_type": "stream",
     "text": [
      "tensor(0.1566, device='cuda:0', grad_fn=<DivBackward0>)\n"
     ]
    },
    {
     "name": "stderr",
     "output_type": "stream",
     "text": [
      "\r",
      " 77%|███████▋  | 92/120 [00:39<00:12,  2.27it/s]"
     ]
    },
    {
     "name": "stdout",
     "output_type": "stream",
     "text": [
      "tensor(0.1567, device='cuda:0', grad_fn=<DivBackward0>)\n"
     ]
    },
    {
     "name": "stderr",
     "output_type": "stream",
     "text": [
      "\r",
      " 78%|███████▊  | 93/120 [00:40<00:11,  2.29it/s]"
     ]
    },
    {
     "name": "stdout",
     "output_type": "stream",
     "text": [
      "tensor(0.1564, device='cuda:0', grad_fn=<DivBackward0>)\n"
     ]
    },
    {
     "name": "stderr",
     "output_type": "stream",
     "text": [
      "\r",
      " 78%|███████▊  | 94/120 [00:40<00:11,  2.29it/s]"
     ]
    },
    {
     "name": "stdout",
     "output_type": "stream",
     "text": [
      "tensor(0.1567, device='cuda:0', grad_fn=<DivBackward0>)\n"
     ]
    },
    {
     "name": "stderr",
     "output_type": "stream",
     "text": [
      "\r",
      " 79%|███████▉  | 95/120 [00:40<00:10,  2.31it/s]"
     ]
    },
    {
     "name": "stdout",
     "output_type": "stream",
     "text": [
      "tensor(0.1564, device='cuda:0', grad_fn=<DivBackward0>)\n"
     ]
    },
    {
     "name": "stderr",
     "output_type": "stream",
     "text": [
      "\r",
      " 80%|████████  | 96/120 [00:41<00:10,  2.27it/s]"
     ]
    },
    {
     "name": "stdout",
     "output_type": "stream",
     "text": [
      "tensor(0.1562, device='cuda:0', grad_fn=<DivBackward0>)\n"
     ]
    },
    {
     "name": "stderr",
     "output_type": "stream",
     "text": [
      "\r",
      " 81%|████████  | 97/120 [00:41<00:10,  2.26it/s]"
     ]
    },
    {
     "name": "stdout",
     "output_type": "stream",
     "text": [
      "tensor(0.1563, device='cuda:0', grad_fn=<DivBackward0>)\n"
     ]
    },
    {
     "name": "stderr",
     "output_type": "stream",
     "text": [
      "\r",
      " 82%|████████▏ | 98/120 [00:42<00:09,  2.27it/s]"
     ]
    },
    {
     "name": "stdout",
     "output_type": "stream",
     "text": [
      "tensor(0.1563, device='cuda:0', grad_fn=<DivBackward0>)\n"
     ]
    },
    {
     "name": "stderr",
     "output_type": "stream",
     "text": [
      "\r",
      " 82%|████████▎ | 99/120 [00:42<00:09,  2.31it/s]"
     ]
    },
    {
     "name": "stdout",
     "output_type": "stream",
     "text": [
      "tensor(0.1561, device='cuda:0', grad_fn=<DivBackward0>)\n"
     ]
    },
    {
     "name": "stderr",
     "output_type": "stream",
     "text": [
      "\r",
      " 83%|████████▎ | 100/120 [00:43<00:08,  2.35it/s]"
     ]
    },
    {
     "name": "stdout",
     "output_type": "stream",
     "text": [
      "tensor(0.1560, device='cuda:0', grad_fn=<DivBackward0>)\n"
     ]
    },
    {
     "name": "stderr",
     "output_type": "stream",
     "text": [
      "\r",
      " 84%|████████▍ | 101/120 [00:43<00:08,  2.35it/s]"
     ]
    },
    {
     "name": "stdout",
     "output_type": "stream",
     "text": [
      "tensor(0.1561, device='cuda:0', grad_fn=<DivBackward0>)\n"
     ]
    },
    {
     "name": "stderr",
     "output_type": "stream",
     "text": [
      "\r",
      " 85%|████████▌ | 102/120 [00:43<00:07,  2.35it/s]"
     ]
    },
    {
     "name": "stdout",
     "output_type": "stream",
     "text": [
      "tensor(0.1559, device='cuda:0', grad_fn=<DivBackward0>)\n"
     ]
    },
    {
     "name": "stderr",
     "output_type": "stream",
     "text": [
      "\r",
      " 86%|████████▌ | 103/120 [00:44<00:07,  2.29it/s]"
     ]
    },
    {
     "name": "stdout",
     "output_type": "stream",
     "text": [
      "tensor(0.1561, device='cuda:0', grad_fn=<DivBackward0>)\n"
     ]
    },
    {
     "name": "stderr",
     "output_type": "stream",
     "text": [
      "\r",
      " 87%|████████▋ | 104/120 [00:44<00:06,  2.29it/s]"
     ]
    },
    {
     "name": "stdout",
     "output_type": "stream",
     "text": [
      "tensor(0.1561, device='cuda:0', grad_fn=<DivBackward0>)\n"
     ]
    },
    {
     "name": "stderr",
     "output_type": "stream",
     "text": [
      "\r",
      " 88%|████████▊ | 105/120 [00:45<00:06,  2.36it/s]"
     ]
    },
    {
     "name": "stdout",
     "output_type": "stream",
     "text": [
      "tensor(0.1558, device='cuda:0', grad_fn=<DivBackward0>)\n"
     ]
    },
    {
     "name": "stderr",
     "output_type": "stream",
     "text": [
      "\r",
      " 88%|████████▊ | 106/120 [00:45<00:05,  2.39it/s]"
     ]
    },
    {
     "name": "stdout",
     "output_type": "stream",
     "text": [
      "tensor(0.1559, device='cuda:0', grad_fn=<DivBackward0>)\n"
     ]
    },
    {
     "name": "stderr",
     "output_type": "stream",
     "text": [
      "\r",
      " 89%|████████▉ | 107/120 [00:46<00:05,  2.39it/s]"
     ]
    },
    {
     "name": "stdout",
     "output_type": "stream",
     "text": [
      "tensor(0.1561, device='cuda:0', grad_fn=<DivBackward0>)\n"
     ]
    },
    {
     "name": "stderr",
     "output_type": "stream",
     "text": [
      "\r",
      " 90%|█████████ | 108/120 [00:46<00:05,  2.32it/s]"
     ]
    },
    {
     "name": "stdout",
     "output_type": "stream",
     "text": [
      "tensor(0.1560, device='cuda:0', grad_fn=<DivBackward0>)\n"
     ]
    },
    {
     "name": "stderr",
     "output_type": "stream",
     "text": [
      "\r",
      " 91%|█████████ | 109/120 [00:46<00:04,  2.35it/s]"
     ]
    },
    {
     "name": "stdout",
     "output_type": "stream",
     "text": [
      "tensor(0.1560, device='cuda:0', grad_fn=<DivBackward0>)\n"
     ]
    },
    {
     "name": "stderr",
     "output_type": "stream",
     "text": [
      "\r",
      " 92%|█████████▏| 110/120 [00:47<00:04,  2.34it/s]"
     ]
    },
    {
     "name": "stdout",
     "output_type": "stream",
     "text": [
      "tensor(0.1559, device='cuda:0', grad_fn=<DivBackward0>)\n"
     ]
    },
    {
     "name": "stderr",
     "output_type": "stream",
     "text": [
      "\r",
      " 92%|█████████▎| 111/120 [00:47<00:03,  2.29it/s]"
     ]
    },
    {
     "name": "stdout",
     "output_type": "stream",
     "text": [
      "tensor(0.1559, device='cuda:0', grad_fn=<DivBackward0>)\n"
     ]
    },
    {
     "name": "stderr",
     "output_type": "stream",
     "text": [
      "\r",
      " 93%|█████████▎| 112/120 [00:48<00:03,  2.24it/s]"
     ]
    },
    {
     "name": "stdout",
     "output_type": "stream",
     "text": [
      "tensor(0.1558, device='cuda:0', grad_fn=<DivBackward0>)\n"
     ]
    },
    {
     "name": "stderr",
     "output_type": "stream",
     "text": [
      "\r",
      " 94%|█████████▍| 113/120 [00:48<00:03,  2.23it/s]"
     ]
    },
    {
     "name": "stdout",
     "output_type": "stream",
     "text": [
      "tensor(0.1556, device='cuda:0', grad_fn=<DivBackward0>)\n"
     ]
    },
    {
     "name": "stderr",
     "output_type": "stream",
     "text": [
      "\r",
      " 95%|█████████▌| 114/120 [00:49<00:02,  2.26it/s]"
     ]
    },
    {
     "name": "stdout",
     "output_type": "stream",
     "text": [
      "tensor(0.1557, device='cuda:0', grad_fn=<DivBackward0>)\n"
     ]
    },
    {
     "name": "stderr",
     "output_type": "stream",
     "text": [
      "\r",
      " 96%|█████████▌| 115/120 [00:49<00:02,  2.27it/s]"
     ]
    },
    {
     "name": "stdout",
     "output_type": "stream",
     "text": [
      "tensor(0.1557, device='cuda:0', grad_fn=<DivBackward0>)\n"
     ]
    },
    {
     "name": "stderr",
     "output_type": "stream",
     "text": [
      "\r",
      " 97%|█████████▋| 116/120 [00:50<00:01,  2.32it/s]"
     ]
    },
    {
     "name": "stdout",
     "output_type": "stream",
     "text": [
      "tensor(0.1557, device='cuda:0', grad_fn=<DivBackward0>)\n"
     ]
    },
    {
     "name": "stderr",
     "output_type": "stream",
     "text": [
      "\r",
      " 98%|█████████▊| 117/120 [00:50<00:01,  2.32it/s]"
     ]
    },
    {
     "name": "stdout",
     "output_type": "stream",
     "text": [
      "tensor(0.1559, device='cuda:0', grad_fn=<DivBackward0>)\n"
     ]
    },
    {
     "name": "stderr",
     "output_type": "stream",
     "text": [
      "\r",
      " 98%|█████████▊| 118/120 [00:50<00:00,  2.27it/s]"
     ]
    },
    {
     "name": "stdout",
     "output_type": "stream",
     "text": [
      "tensor(0.1555, device='cuda:0', grad_fn=<DivBackward0>)\n"
     ]
    },
    {
     "name": "stderr",
     "output_type": "stream",
     "text": [
      "\r",
      " 99%|█████████▉| 119/120 [00:51<00:00,  2.23it/s]"
     ]
    },
    {
     "name": "stdout",
     "output_type": "stream",
     "text": [
      "tensor(0.1557, device='cuda:0', grad_fn=<DivBackward0>)\n"
     ]
    },
    {
     "name": "stderr",
     "output_type": "stream",
     "text": [
      "100%|██████████| 120/120 [00:51<00:00,  2.31it/s]"
     ]
    },
    {
     "name": "stdout",
     "output_type": "stream",
     "text": [
      "tensor(0.1559, device='cuda:0', grad_fn=<DivBackward0>)\n"
     ]
    },
    {
     "name": "stderr",
     "output_type": "stream",
     "text": [
      "\n"
     ]
    }
   ],
   "source": [
    "batch_size = 12000\n",
    "epochs=120\n",
    "\n",
    "criterion = nn.BCELoss()\n",
    "for i in tqdm(range(epochs)):\n",
    "    seq=torch.randperm(29130)\n",
    "    train_x = df.iloc[:,:10].values\n",
    "    train_y=df.iloc[:,10:].values\n",
    "    cum_loss=0\n",
    "    count=0\n",
    "    \n",
    "    for i in range(0,len(train_x),batch_size):\n",
    "        reg=torch.tensor(0.).to(device)\n",
    "        for param in model.parameters():\n",
    "            reg+=(param**2).sum()\n",
    "        optimizer = torch.optim.Adam(model.parameters(),lr=0.005) \n",
    "        train_batch_y = torch.tensor(train_y[i:i+batch_size],dtype=torch.float32).to(device)\n",
    "        output=model((train_x[i:i+batch_size],train_batch_y))\n",
    "        \n",
    "        loss = criterion(output, train_batch_y)\n",
    "        loss.backward()\n",
    "        optimizer.step()\n",
    "        optimizer.zero_grad()\n",
    "        \n",
    "        cum_loss+=loss\n",
    "        count+=1\n",
    "        \n",
    "    print(cum_loss/count)"
   ]
  },
  {
   "cell_type": "code",
   "execution_count": 10,
   "metadata": {},
   "outputs": [],
   "source": [
    "# torch.save({\n",
    "#             'model_state_dict': model.state_dict(),\n",
    "#             'optimizer_state_dict': optimizer.state_dict(), \n",
    "#             'loss': loss\n",
    "#             }, 'model_v1.pth.tar')"
   ]
  },
  {
   "cell_type": "code",
   "execution_count": 11,
   "metadata": {},
   "outputs": [],
   "source": [
    "# optimizer = torch.optim.AdamW(model.parameters(), lr=0.001) \n",
    "# cp = torch.load('model_v1.pth.tar')"
   ]
  },
  {
   "cell_type": "code",
   "execution_count": 12,
   "metadata": {},
   "outputs": [],
   "source": [
    "# model.load_state_dict(cp['model_state_dict'])\n",
    "# optimizer.load_state_dict(cp['optimizer_state_dict'])"
   ]
  },
  {
   "cell_type": "code",
   "execution_count": 13,
   "metadata": {},
   "outputs": [],
   "source": [
    "dt = pd.read_csv('test.csv')\n",
    "# df['birth_year']=df['birth_year'].apply(lambda x:year(x))\n",
    "dt['join_year']=pd.DatetimeIndex(dt['join_date']).year.values.astype(int)\n",
    "dt['join_month']=pd.DatetimeIndex(dt['join_date'],dayfirst=True).month.values.astype(int)\n",
    "dt['occupation_code']=le.fit_transform(dt['occupation_code'])\n",
    "del(dt['join_date'])\n",
    "\n",
    "dt.loc[~dt['join_year'].isin(df['join_year']),'join_year']=int(st.mean(dt[dt['join_year'].isin(df['join_year'])]['join_year']))\n",
    "dt.loc[~dt['birth_year'].isin(df['birth_year']),'birth_year']=int(st.mean(dt[dt['birth_year'].isin(df['birth_year'])]['birth_year']))\n",
    "dt.loc[~dt['join_month'].isin(df['join_month']),'join_month']=np.nan\n",
    "dt=dt.fillna(dt.groupby('join_year').transform('mean').astype(int))\n",
    "dt['join_month']=dt['join_month'].astype(int)\n",
    "dt['age']=dt['join_year']-dt['birth_year']\n",
    "dt=dt[['ID']+list(dt.columns.values[-3:])+list(dt.columns.values[1:-3])]"
   ]
  },
  {
   "cell_type": "code",
   "execution_count": 14,
   "metadata": {},
   "outputs": [
    {
     "data": {
      "text/html": [
       "<div>\n",
       "<style scoped>\n",
       "    .dataframe tbody tr th:only-of-type {\n",
       "        vertical-align: middle;\n",
       "    }\n",
       "\n",
       "    .dataframe tbody tr th {\n",
       "        vertical-align: top;\n",
       "    }\n",
       "\n",
       "    .dataframe thead th {\n",
       "        text-align: right;\n",
       "    }\n",
       "</style>\n",
       "<table border=\"1\" class=\"dataframe\">\n",
       "  <thead>\n",
       "    <tr style=\"text-align: right;\">\n",
       "      <th></th>\n",
       "      <th>ID</th>\n",
       "      <th>join_year</th>\n",
       "      <th>join_month</th>\n",
       "      <th>age</th>\n",
       "      <th>sex</th>\n",
       "      <th>marital_status</th>\n",
       "      <th>birth_year</th>\n",
       "      <th>branch_code</th>\n",
       "      <th>occupation_code</th>\n",
       "      <th>occupation_category_code</th>\n",
       "      <th>...</th>\n",
       "      <th>AHXO</th>\n",
       "      <th>BSTQ</th>\n",
       "      <th>FM3X</th>\n",
       "      <th>K6QO</th>\n",
       "      <th>QBOL</th>\n",
       "      <th>JWFN</th>\n",
       "      <th>JZ9D</th>\n",
       "      <th>J9JW</th>\n",
       "      <th>GHYX</th>\n",
       "      <th>ECY3</th>\n",
       "    </tr>\n",
       "  </thead>\n",
       "  <tbody>\n",
       "    <tr>\n",
       "      <th>0</th>\n",
       "      <td>F86J5PC</td>\n",
       "      <td>2018</td>\n",
       "      <td>12</td>\n",
       "      <td>34</td>\n",
       "      <td>M</td>\n",
       "      <td>M</td>\n",
       "      <td>1984</td>\n",
       "      <td>94KC</td>\n",
       "      <td>79</td>\n",
       "      <td>90QI</td>\n",
       "      <td>...</td>\n",
       "      <td>0</td>\n",
       "      <td>0</td>\n",
       "      <td>0</td>\n",
       "      <td>0</td>\n",
       "      <td>0</td>\n",
       "      <td>0</td>\n",
       "      <td>0</td>\n",
       "      <td>0</td>\n",
       "      <td>0</td>\n",
       "      <td>0</td>\n",
       "    </tr>\n",
       "    <tr>\n",
       "      <th>1</th>\n",
       "      <td>H6141K3</td>\n",
       "      <td>2019</td>\n",
       "      <td>10</td>\n",
       "      <td>23</td>\n",
       "      <td>M</td>\n",
       "      <td>M</td>\n",
       "      <td>1996</td>\n",
       "      <td>1X1H</td>\n",
       "      <td>103</td>\n",
       "      <td>90QI</td>\n",
       "      <td>...</td>\n",
       "      <td>0</td>\n",
       "      <td>0</td>\n",
       "      <td>0</td>\n",
       "      <td>1</td>\n",
       "      <td>0</td>\n",
       "      <td>0</td>\n",
       "      <td>0</td>\n",
       "      <td>0</td>\n",
       "      <td>0</td>\n",
       "      <td>0</td>\n",
       "    </tr>\n",
       "    <tr>\n",
       "      <th>2</th>\n",
       "      <td>RBAYUXZ</td>\n",
       "      <td>2020</td>\n",
       "      <td>1</td>\n",
       "      <td>52</td>\n",
       "      <td>F</td>\n",
       "      <td>W</td>\n",
       "      <td>1968</td>\n",
       "      <td>UAOD</td>\n",
       "      <td>18</td>\n",
       "      <td>T4MS</td>\n",
       "      <td>...</td>\n",
       "      <td>0</td>\n",
       "      <td>0</td>\n",
       "      <td>0</td>\n",
       "      <td>1</td>\n",
       "      <td>0</td>\n",
       "      <td>0</td>\n",
       "      <td>0</td>\n",
       "      <td>0</td>\n",
       "      <td>0</td>\n",
       "      <td>0</td>\n",
       "    </tr>\n",
       "    <tr>\n",
       "      <th>3</th>\n",
       "      <td>KCBILBQ</td>\n",
       "      <td>2019</td>\n",
       "      <td>2</td>\n",
       "      <td>30</td>\n",
       "      <td>M</td>\n",
       "      <td>M</td>\n",
       "      <td>1989</td>\n",
       "      <td>94KC</td>\n",
       "      <td>18</td>\n",
       "      <td>T4MS</td>\n",
       "      <td>...</td>\n",
       "      <td>0</td>\n",
       "      <td>0</td>\n",
       "      <td>0</td>\n",
       "      <td>0</td>\n",
       "      <td>0</td>\n",
       "      <td>0</td>\n",
       "      <td>0</td>\n",
       "      <td>0</td>\n",
       "      <td>0</td>\n",
       "      <td>0</td>\n",
       "    </tr>\n",
       "    <tr>\n",
       "      <th>4</th>\n",
       "      <td>LSEC1ZJ</td>\n",
       "      <td>2020</td>\n",
       "      <td>2</td>\n",
       "      <td>38</td>\n",
       "      <td>F</td>\n",
       "      <td>M</td>\n",
       "      <td>1982</td>\n",
       "      <td>UAOD</td>\n",
       "      <td>3</td>\n",
       "      <td>T4MS</td>\n",
       "      <td>...</td>\n",
       "      <td>0</td>\n",
       "      <td>0</td>\n",
       "      <td>0</td>\n",
       "      <td>0</td>\n",
       "      <td>0</td>\n",
       "      <td>0</td>\n",
       "      <td>1</td>\n",
       "      <td>0</td>\n",
       "      <td>0</td>\n",
       "      <td>0</td>\n",
       "    </tr>\n",
       "    <tr>\n",
       "      <th>...</th>\n",
       "      <td>...</td>\n",
       "      <td>...</td>\n",
       "      <td>...</td>\n",
       "      <td>...</td>\n",
       "      <td>...</td>\n",
       "      <td>...</td>\n",
       "      <td>...</td>\n",
       "      <td>...</td>\n",
       "      <td>...</td>\n",
       "      <td>...</td>\n",
       "      <td>...</td>\n",
       "      <td>...</td>\n",
       "      <td>...</td>\n",
       "      <td>...</td>\n",
       "      <td>...</td>\n",
       "      <td>...</td>\n",
       "      <td>...</td>\n",
       "      <td>...</td>\n",
       "      <td>...</td>\n",
       "      <td>...</td>\n",
       "      <td>...</td>\n",
       "    </tr>\n",
       "    <tr>\n",
       "      <th>9995</th>\n",
       "      <td>0GMU5UH</td>\n",
       "      <td>2019</td>\n",
       "      <td>4</td>\n",
       "      <td>33</td>\n",
       "      <td>F</td>\n",
       "      <td>M</td>\n",
       "      <td>1986</td>\n",
       "      <td>748L</td>\n",
       "      <td>18</td>\n",
       "      <td>T4MS</td>\n",
       "      <td>...</td>\n",
       "      <td>0</td>\n",
       "      <td>0</td>\n",
       "      <td>0</td>\n",
       "      <td>0</td>\n",
       "      <td>1</td>\n",
       "      <td>0</td>\n",
       "      <td>1</td>\n",
       "      <td>0</td>\n",
       "      <td>0</td>\n",
       "      <td>0</td>\n",
       "    </tr>\n",
       "    <tr>\n",
       "      <th>9996</th>\n",
       "      <td>I9W11CD</td>\n",
       "      <td>2019</td>\n",
       "      <td>8</td>\n",
       "      <td>39</td>\n",
       "      <td>M</td>\n",
       "      <td>M</td>\n",
       "      <td>1980</td>\n",
       "      <td>UAOD</td>\n",
       "      <td>3</td>\n",
       "      <td>T4MS</td>\n",
       "      <td>...</td>\n",
       "      <td>0</td>\n",
       "      <td>0</td>\n",
       "      <td>0</td>\n",
       "      <td>0</td>\n",
       "      <td>0</td>\n",
       "      <td>0</td>\n",
       "      <td>0</td>\n",
       "      <td>0</td>\n",
       "      <td>0</td>\n",
       "      <td>0</td>\n",
       "    </tr>\n",
       "    <tr>\n",
       "      <th>9997</th>\n",
       "      <td>42WTEGT</td>\n",
       "      <td>2018</td>\n",
       "      <td>4</td>\n",
       "      <td>25</td>\n",
       "      <td>M</td>\n",
       "      <td>M</td>\n",
       "      <td>1993</td>\n",
       "      <td>748L</td>\n",
       "      <td>156</td>\n",
       "      <td>56SI</td>\n",
       "      <td>...</td>\n",
       "      <td>0</td>\n",
       "      <td>0</td>\n",
       "      <td>0</td>\n",
       "      <td>1</td>\n",
       "      <td>0</td>\n",
       "      <td>0</td>\n",
       "      <td>0</td>\n",
       "      <td>0</td>\n",
       "      <td>0</td>\n",
       "      <td>0</td>\n",
       "    </tr>\n",
       "    <tr>\n",
       "      <th>9998</th>\n",
       "      <td>8EKC4O9</td>\n",
       "      <td>2015</td>\n",
       "      <td>5</td>\n",
       "      <td>34</td>\n",
       "      <td>F</td>\n",
       "      <td>U</td>\n",
       "      <td>1981</td>\n",
       "      <td>49BM</td>\n",
       "      <td>18</td>\n",
       "      <td>T4MS</td>\n",
       "      <td>...</td>\n",
       "      <td>0</td>\n",
       "      <td>0</td>\n",
       "      <td>0</td>\n",
       "      <td>0</td>\n",
       "      <td>0</td>\n",
       "      <td>0</td>\n",
       "      <td>0</td>\n",
       "      <td>0</td>\n",
       "      <td>0</td>\n",
       "      <td>0</td>\n",
       "    </tr>\n",
       "    <tr>\n",
       "      <th>9999</th>\n",
       "      <td>WHII93K</td>\n",
       "      <td>2018</td>\n",
       "      <td>11</td>\n",
       "      <td>41</td>\n",
       "      <td>M</td>\n",
       "      <td>U</td>\n",
       "      <td>1977</td>\n",
       "      <td>94KC</td>\n",
       "      <td>18</td>\n",
       "      <td>T4MS</td>\n",
       "      <td>...</td>\n",
       "      <td>0</td>\n",
       "      <td>0</td>\n",
       "      <td>0</td>\n",
       "      <td>1</td>\n",
       "      <td>0</td>\n",
       "      <td>0</td>\n",
       "      <td>0</td>\n",
       "      <td>0</td>\n",
       "      <td>0</td>\n",
       "      <td>0</td>\n",
       "    </tr>\n",
       "  </tbody>\n",
       "</table>\n",
       "<p>10000 rows × 31 columns</p>\n",
       "</div>"
      ],
      "text/plain": [
       "           ID  join_year  join_month  age sex marital_status  birth_year  \\\n",
       "0     F86J5PC       2018          12   34   M              M        1984   \n",
       "1     H6141K3       2019          10   23   M              M        1996   \n",
       "2     RBAYUXZ       2020           1   52   F              W        1968   \n",
       "3     KCBILBQ       2019           2   30   M              M        1989   \n",
       "4     LSEC1ZJ       2020           2   38   F              M        1982   \n",
       "...       ...        ...         ...  ...  ..            ...         ...   \n",
       "9995  0GMU5UH       2019           4   33   F              M        1986   \n",
       "9996  I9W11CD       2019           8   39   M              M        1980   \n",
       "9997  42WTEGT       2018           4   25   M              M        1993   \n",
       "9998  8EKC4O9       2015           5   34   F              U        1981   \n",
       "9999  WHII93K       2018          11   41   M              U        1977   \n",
       "\n",
       "     branch_code  occupation_code occupation_category_code  ...  AHXO  BSTQ  \\\n",
       "0           94KC               79                     90QI  ...     0     0   \n",
       "1           1X1H              103                     90QI  ...     0     0   \n",
       "2           UAOD               18                     T4MS  ...     0     0   \n",
       "3           94KC               18                     T4MS  ...     0     0   \n",
       "4           UAOD                3                     T4MS  ...     0     0   \n",
       "...          ...              ...                      ...  ...   ...   ...   \n",
       "9995        748L               18                     T4MS  ...     0     0   \n",
       "9996        UAOD                3                     T4MS  ...     0     0   \n",
       "9997        748L              156                     56SI  ...     0     0   \n",
       "9998        49BM               18                     T4MS  ...     0     0   \n",
       "9999        94KC               18                     T4MS  ...     0     0   \n",
       "\n",
       "      FM3X  K6QO  QBOL  JWFN  JZ9D  J9JW  GHYX  ECY3  \n",
       "0        0     0     0     0     0     0     0     0  \n",
       "1        0     1     0     0     0     0     0     0  \n",
       "2        0     1     0     0     0     0     0     0  \n",
       "3        0     0     0     0     0     0     0     0  \n",
       "4        0     0     0     0     1     0     0     0  \n",
       "...    ...   ...   ...   ...   ...   ...   ...   ...  \n",
       "9995     0     0     1     0     1     0     0     0  \n",
       "9996     0     0     0     0     0     0     0     0  \n",
       "9997     0     1     0     0     0     0     0     0  \n",
       "9998     0     0     0     0     0     0     0     0  \n",
       "9999     0     1     0     0     0     0     0     0  \n",
       "\n",
       "[10000 rows x 31 columns]"
      ]
     },
     "execution_count": 14,
     "metadata": {},
     "output_type": "execute_result"
    }
   ],
   "source": [
    "dt"
   ]
  },
  {
   "cell_type": "code",
   "execution_count": 15,
   "metadata": {},
   "outputs": [],
   "source": [
    "test_x=dt.iloc[:,:10].values\n",
    "\n"
   ]
  },
  {
   "cell_type": "code",
   "execution_count": 16,
   "metadata": {},
   "outputs": [],
   "source": [
    "result=np.array(model((test_x,1)).detach().cpu())"
   ]
  },
  {
   "cell_type": "code",
   "execution_count": 17,
   "metadata": {},
   "outputs": [
    {
     "data": {
      "text/plain": [
       "array([[0.00275231, 0.02309757, 0.00432645, ..., 0.05065098, 0.03522831,\n",
       "        0.03282816],\n",
       "       [0.00408793, 0.00839597, 0.00301188, ..., 0.03728336, 0.02776643,\n",
       "        0.02450823],\n",
       "       [0.00666784, 0.0015998 , 0.00570961, ..., 0.04200678, 0.02697119,\n",
       "        0.02372017],\n",
       "       ...,\n",
       "       [0.00375696, 0.01088406, 0.00257171, ..., 0.03755647, 0.02780551,\n",
       "        0.02407444],\n",
       "       [0.1389347 , 0.3450307 , 0.1493659 , ..., 0.1475434 , 0.14327414,\n",
       "        0.14478652],\n",
       "       [0.05508614, 0.16868997, 0.06130209, ..., 0.08434118, 0.07887278,\n",
       "        0.07749103]], dtype=float32)"
      ]
     },
     "execution_count": 17,
     "metadata": {},
     "output_type": "execute_result"
    }
   ],
   "source": [
    "result"
   ]
  },
  {
   "cell_type": "code",
   "execution_count": 18,
   "metadata": {},
   "outputs": [],
   "source": [
    "ref=dt.iloc[:,10:].values"
   ]
  },
  {
   "cell_type": "code",
   "execution_count": 19,
   "metadata": {},
   "outputs": [
    {
     "data": {
      "text/plain": [
       "array([[0, 0, 0, ..., 0, 0, 0],\n",
       "       [0, 0, 0, ..., 0, 0, 0],\n",
       "       [0, 0, 0, ..., 0, 0, 0],\n",
       "       ...,\n",
       "       [0, 0, 0, ..., 0, 0, 0],\n",
       "       [0, 0, 0, ..., 0, 0, 0],\n",
       "       [0, 0, 0, ..., 0, 0, 0]], dtype=int64)"
      ]
     },
     "execution_count": 19,
     "metadata": {},
     "output_type": "execute_result"
    }
   ],
   "source": [
    "ref"
   ]
  },
  {
   "cell_type": "code",
   "execution_count": 20,
   "metadata": {},
   "outputs": [],
   "source": [
    "file=open('answer.txt','w')\n",
    "for i in range(len(ref)):\n",
    "    for j in range(len(ref[i])):\n",
    "        if(ref[i][j]==0):\n",
    "            file.write(str(result[i][j])+'\\n')\n",
    "        else:\n",
    "            file.write(str(1)+'\\n')\n",
    "file.close()"
   ]
  },
  {
   "cell_type": "code",
   "execution_count": 21,
   "metadata": {},
   "outputs": [
    {
     "data": {
      "text/plain": [
       "tensor([0., 0., 0., 0., 0., 0., 0., 1., 0., 0., 0., 0., 0., 0., 1., 0., 0., 0.,\n",
       "        0., 0., 0.], device='cuda:0')"
      ]
     },
     "execution_count": 21,
     "metadata": {},
     "output_type": "execute_result"
    }
   ],
   "source": [
    "train_batch_y[0]"
   ]
  },
  {
   "cell_type": "code",
   "execution_count": 22,
   "metadata": {},
   "outputs": [
    {
     "data": {
      "text/plain": [
       "tensor([ 0.5850, -0.5468,  0.4568,  0.5115, -0.3868,  0.4361, -0.5823,  0.4832,\n",
       "         0.4008,  0.4638,  0.5329, -0.5070,  0.5564,  0.5547,  0.5699, -0.4921,\n",
       "        -0.4130, -0.4190, -0.4624, -0.5533,  0.5182, -0.4667,  0.5293, -0.3775,\n",
       "         0.4680,  0.4520, -0.5510,  0.3693, -0.5441,  0.4593,  0.5319, -0.4323,\n",
       "        -0.4363,  0.4846, -0.5009,  0.4943, -0.5261, -0.4501, -0.4128, -0.5592,\n",
       "         0.4350, -0.5708,  0.5176, -0.4910, -0.5183,  0.4970,  0.4476, -0.5443,\n",
       "        -0.5062,  0.4309, -0.5945, -0.5537,  0.4133, -0.4575, -0.4247, -0.4226,\n",
       "        -0.5412,  0.4439,  0.5536,  0.4584, -0.4902, -0.3769, -0.4883, -0.5173,\n",
       "        -0.4350,  0.5217, -0.4746,  0.4159, -0.4687, -0.5065,  0.5234,  0.3979,\n",
       "        -0.3594,  0.5361, -0.4550, -0.5459,  0.4178,  0.3893,  0.5144,  0.4333,\n",
       "         0.3997, -0.4465,  0.4329,  0.5596, -0.4133,  0.4716, -0.5527, -0.5258,\n",
       "        -0.5362,  0.4656, -0.4627, -0.5462,  0.5077, -0.5958,  0.4045,  0.4374,\n",
       "         0.4894,  0.5537, -0.3802, -0.5308, -0.4819, -0.4089, -0.4515,  0.4442,\n",
       "        -0.4726, -0.3678, -0.5292, -0.5487,  0.4110,  0.4418,  0.4454,  0.4770,\n",
       "         0.6126,  0.4927,  0.4145, -0.3894,  0.4742,  0.4086,  0.6395,  0.4123,\n",
       "        -0.4927, -0.5033, -0.4955, -0.4153, -0.5665, -0.4722,  0.5101,  0.4801,\n",
       "         0.4121,  0.5542,  0.4969, -0.3968,  0.5365, -0.3954,  0.4871,  0.4643,\n",
       "        -0.4862,  0.4527, -0.4096,  0.5564,  0.5005, -0.4471, -0.4050,  0.5544,\n",
       "        -0.5481, -0.4588, -0.4863, -0.5437, -0.4823, -0.4400, -0.5806,  0.4403,\n",
       "        -0.4584,  0.5381, -0.4632, -0.4387,  0.4643,  0.4371,  0.5452, -0.4587,\n",
       "        -0.4064, -0.5075, -0.5338,  0.4605, -0.4789,  0.4997,  0.5143,  0.4445,\n",
       "        -0.5071,  0.4404, -0.4587, -0.3808,  0.4417, -0.4596,  0.4798, -0.4849,\n",
       "        -0.5459,  0.4848,  0.4689,  0.4869, -0.4480, -0.4148, -0.4577, -0.4310,\n",
       "        -0.5699, -0.4499,  0.4948,  0.5339,  0.5415,  0.4683, -0.5188, -0.4880,\n",
       "         0.4818, -0.5350,  0.5280,  0.5468,  0.4468, -0.4490, -0.4342,  0.4491,\n",
       "        -0.4381,  0.4753,  0.5379,  0.4102, -0.4018,  0.3563,  0.4808, -0.5421,\n",
       "         0.4661,  0.4801,  0.5713,  0.4198,  0.5173, -0.4060, -0.4003, -0.3719,\n",
       "         0.4348, -0.5542,  0.4683,  0.4113,  0.5702, -0.4411,  0.4500,  0.4380,\n",
       "         0.5416,  0.5850, -0.5198,  0.4900, -0.4704,  0.3903,  0.5036,  0.5043,\n",
       "        -0.4809,  0.4630,  0.4440, -0.5514,  0.3920, -0.5999, -0.5259,  0.4255,\n",
       "        -0.5719, -0.3981, -0.4940,  0.3762,  0.3321, -0.4438,  0.4099,  0.5237,\n",
       "         0.4725, -0.4128, -0.5635,  0.4696, -0.3609,  0.4282, -0.4774, -0.5405,\n",
       "        -0.4090,  0.5086,  0.5133,  0.4494, -0.5271,  0.5692, -0.6067,  0.5571,\n",
       "        -0.4729,  0.5140, -0.4827,  0.4225, -0.5369,  0.4668, -0.4412,  0.5056,\n",
       "        -0.4255, -0.5212,  0.5307,  0.4825,  0.4232,  0.4744, -0.4977, -0.5268,\n",
       "         0.4143,  0.4335,  0.5189, -0.5247, -0.5332,  0.4836, -0.5669, -0.3240,\n",
       "        -0.3626,  0.4477,  0.5105,  0.4763, -0.5747, -0.3986, -0.3698,  0.5686,\n",
       "         0.4511, -0.5537, -0.4666, -0.4002,  0.4771, -0.4566,  0.4872, -0.5547,\n",
       "        -0.4709,  0.4896, -0.5180, -0.4122, -0.3983,  0.5028,  0.4501, -0.5185,\n",
       "         0.5648,  0.5336, -0.4835,  0.5364,  0.5082, -0.3947, -0.5857,  0.5171,\n",
       "        -0.4658,  0.4843, -0.4865, -0.4055, -0.5266, -0.4895, -0.5518,  0.4087,\n",
       "        -0.6005,  0.5668,  0.4987, -0.5603,  0.4430,  0.4978,  0.4843,  0.4812,\n",
       "         0.3492,  0.5053,  0.3449, -0.5620, -0.4339, -0.4984, -0.5026, -0.3962,\n",
       "         0.5073, -0.4807,  0.4761,  0.3753, -0.4625,  0.4314, -0.5286,  0.4161,\n",
       "        -0.4203,  0.4902, -0.4839, -0.5129,  0.4507, -0.4281, -0.4386, -0.4176,\n",
       "         0.4724,  0.3940, -0.4035,  0.4618, -0.4265,  0.5461,  0.4601, -0.3950,\n",
       "        -0.4235, -0.5436,  0.4996,  0.5308, -0.4358, -0.3786,  0.5098,  0.4404,\n",
       "        -0.4819, -0.5770, -0.4855,  0.4669,  0.4988, -0.5272,  0.4186, -0.4331,\n",
       "         0.5171,  0.5908, -0.5780, -0.4900, -0.5274, -0.4799,  0.4936, -0.5942,\n",
       "        -0.3850, -0.4359,  0.5911, -0.4213,  0.5629,  0.4305,  0.4826,  0.5144,\n",
       "        -0.4699,  0.5249, -0.3992, -0.4828, -0.4351, -0.4483, -0.5592,  0.6366,\n",
       "        -0.5293,  0.5054,  0.4865,  0.3668, -0.4871,  0.5715, -0.3833,  0.3927,\n",
       "        -0.5142, -0.4093,  0.3228, -0.5736, -0.4515, -0.4313,  0.5502,  0.5481,\n",
       "         0.4944, -0.4672,  0.5291, -0.5443, -0.5378, -0.5626,  0.5015,  0.3764,\n",
       "        -0.4823, -0.3907,  0.5290,  0.5688, -0.4668, -0.5119, -0.4252, -0.4783,\n",
       "         0.5356, -0.4596, -0.3719, -0.5645,  0.4779,  0.3871,  0.4165, -0.5281,\n",
       "         0.4864,  0.5247, -0.3731,  0.4189, -0.3516, -0.4631,  0.4044,  0.4477,\n",
       "        -0.5360,  0.3563, -0.3817,  0.4509, -0.3878, -0.5231,  0.5055,  0.5461,\n",
       "         0.5299,  0.4624, -0.4336,  0.4057, -0.6203,  0.5051,  0.4218, -0.4282,\n",
       "        -0.4094,  0.5473, -0.4655,  0.5275,  0.4589,  0.5645,  0.5481,  0.5625,\n",
       "         0.3666, -0.4340, -0.5012,  0.5166, -0.4320, -0.5701, -0.5194,  0.4310,\n",
       "         0.4642, -0.4314, -0.3950, -0.4883,  0.4537, -0.4300, -0.4821,  0.3942,\n",
       "         0.4409, -0.4749, -0.4282,  0.4564, -0.4207, -0.5430, -0.4713, -0.5426,\n",
       "         0.4433, -0.5089, -0.3722,  0.5460,  0.4428, -0.5278,  0.4157,  0.4495,\n",
       "        -0.5535,  0.4340,  0.5434,  0.5658,  0.4327,  0.4238, -0.5000, -0.4126,\n",
       "        -0.4172, -0.5517, -0.4076, -0.4031, -0.4021,  0.4699,  0.4158,  0.4148,\n",
       "        -0.4471, -0.4239, -0.3279,  0.4548,  0.4745, -0.3995, -0.4102,  0.3967,\n",
       "         0.3833, -0.3551,  0.4621, -0.4439,  0.5050, -0.4020,  0.4494, -0.5605,\n",
       "         0.5203,  0.4329, -0.3547,  0.5512, -0.5519, -0.4921, -0.5342,  0.5080,\n",
       "         0.3832,  0.4431,  0.5941, -0.4992,  0.4125,  0.4814,  0.5156, -0.4777,\n",
       "         0.3804, -0.5560,  0.5530,  0.4857,  0.2837, -0.4853, -0.4536, -0.3551,\n",
       "        -0.4083, -0.4928, -0.4563,  0.5192,  0.5826,  0.4676,  0.5104,  0.4578,\n",
       "        -0.5225,  0.5018, -0.5720,  0.6576, -0.4607,  0.5548,  0.4176,  0.5533,\n",
       "        -0.5435,  0.4749, -0.5666, -0.5544,  0.5738,  0.4272, -0.4423, -0.5675,\n",
       "         0.4129,  0.3856, -0.5765, -0.4543, -0.4586,  0.4601,  0.5000,  0.5729,\n",
       "        -0.3796,  0.3628,  0.4150, -0.4572, -0.4679,  0.4891, -0.5441, -0.5415,\n",
       "        -0.4596, -0.4584,  0.4765, -0.4341, -0.3193,  0.5111,  0.4669,  0.5162,\n",
       "         0.4641, -0.3836, -0.5793, -0.4509,  0.5252, -0.4936, -0.4379,  0.4293,\n",
       "         0.3816,  0.4033, -0.3777,  0.5058, -0.3881, -0.5717, -0.4790, -0.4509,\n",
       "        -0.5050, -0.6298, -0.4380, -0.3791, -0.4459, -0.3728,  0.4951, -0.4505,\n",
       "         0.4228, -0.4750, -0.3801,  0.4948, -0.5733, -0.3691, -0.5461,  0.5117,\n",
       "        -0.5817, -0.5123,  0.4657,  0.3351,  0.5738,  0.5311, -0.4711, -0.4364,\n",
       "         0.4325, -0.4454,  0.5334,  0.4522,  0.4021, -0.4469, -0.6138,  0.6016,\n",
       "        -0.4533,  0.5161,  0.3727,  0.4020,  0.4276,  0.4679,  0.4590, -0.3552,\n",
       "         0.5181,  0.5496,  0.4334, -0.5735, -0.5115, -0.3729,  0.3446,  0.5967,\n",
       "        -0.3555,  0.4393,  0.4908, -0.4806,  0.5259, -0.4860,  0.5007,  0.4889,\n",
       "        -0.4310,  0.4610, -0.3950,  0.4800,  0.4593,  0.5132, -0.5111, -0.4814,\n",
       "        -0.5368,  0.4130, -0.5657, -0.5229, -0.4048, -0.4106, -0.5115,  0.5584,\n",
       "         0.3626,  0.3669, -0.4413, -0.4491, -0.5328, -0.4943,  0.5319, -0.4164,\n",
       "        -0.4634, -0.4366,  0.4702,  0.4211, -0.4885,  0.5135, -0.4769,  0.5038,\n",
       "        -0.4836, -0.4780, -0.4900, -0.4465,  0.5120, -0.5026,  0.5727, -0.4698,\n",
       "        -0.5381,  0.5862,  0.3602,  0.4540, -0.5051, -0.5127, -0.4523,  0.4312,\n",
       "        -0.4678,  0.4673, -0.5469, -0.4656, -0.4802,  0.4428,  0.4035, -0.5558,\n",
       "        -0.3811, -0.4916, -0.3621,  0.5464, -0.4401, -0.5459], device='cuda:0',\n",
       "       grad_fn=<EmbeddingBackward>)"
      ]
     },
     "execution_count": 22,
     "metadata": {},
     "output_type": "execute_result"
    }
   ],
   "source": [
    "model.item_factors(torch.tensor(0).to(device))"
   ]
  },
  {
   "cell_type": "code",
   "execution_count": 23,
   "metadata": {},
   "outputs": [
    {
     "ename": "AttributeError",
     "evalue": "'MatrixFactorization' object has no attribute 'birth_year_biases'",
     "output_type": "error",
     "traceback": [
      "\u001b[1;31m---------------------------------------------------------------------------\u001b[0m",
      "\u001b[1;31mAttributeError\u001b[0m                            Traceback (most recent call last)",
      "\u001b[1;32m<ipython-input-23-1716d4fe9e3d>\u001b[0m in \u001b[0;36m<module>\u001b[1;34m\u001b[0m\n\u001b[1;32m----> 1\u001b[1;33m \u001b[0mmodel\u001b[0m\u001b[1;33m.\u001b[0m\u001b[0mbirth_year_biases\u001b[0m\u001b[1;33m(\u001b[0m\u001b[0mtorch\u001b[0m\u001b[1;33m.\u001b[0m\u001b[0mtensor\u001b[0m\u001b[1;33m(\u001b[0m\u001b[1;36m0\u001b[0m\u001b[1;33m)\u001b[0m\u001b[1;33m.\u001b[0m\u001b[0mto\u001b[0m\u001b[1;33m(\u001b[0m\u001b[0mdevice\u001b[0m\u001b[1;33m)\u001b[0m\u001b[1;33m)\u001b[0m\u001b[1;33m+\u001b[0m\u001b[0mmodel\u001b[0m\u001b[1;33m.\u001b[0m\u001b[0mitem_biases\u001b[0m\u001b[1;33m(\u001b[0m\u001b[0mtorch\u001b[0m\u001b[1;33m.\u001b[0m\u001b[0mtensor\u001b[0m\u001b[1;33m(\u001b[0m\u001b[1;36m0\u001b[0m\u001b[1;33m)\u001b[0m\u001b[1;33m.\u001b[0m\u001b[0mto\u001b[0m\u001b[1;33m(\u001b[0m\u001b[0mdevice\u001b[0m\u001b[1;33m)\u001b[0m\u001b[1;33m)\u001b[0m\u001b[1;33m\u001b[0m\u001b[1;33m\u001b[0m\u001b[0m\n\u001b[0m",
      "\u001b[1;32m~\\anaconda3\\envs\\zindi\\lib\\site-packages\\torch\\nn\\modules\\module.py\u001b[0m in \u001b[0;36m__getattr__\u001b[1;34m(self, name)\u001b[0m\n\u001b[0;32m    592\u001b[0m                 \u001b[1;32mreturn\u001b[0m \u001b[0mmodules\u001b[0m\u001b[1;33m[\u001b[0m\u001b[0mname\u001b[0m\u001b[1;33m]\u001b[0m\u001b[1;33m\u001b[0m\u001b[1;33m\u001b[0m\u001b[0m\n\u001b[0;32m    593\u001b[0m         raise AttributeError(\"'{}' object has no attribute '{}'\".format(\n\u001b[1;32m--> 594\u001b[1;33m             type(self).__name__, name))\n\u001b[0m\u001b[0;32m    595\u001b[0m \u001b[1;33m\u001b[0m\u001b[0m\n\u001b[0;32m    596\u001b[0m     \u001b[1;32mdef\u001b[0m \u001b[0m__setattr__\u001b[0m\u001b[1;33m(\u001b[0m\u001b[0mself\u001b[0m\u001b[1;33m,\u001b[0m \u001b[0mname\u001b[0m\u001b[1;33m,\u001b[0m \u001b[0mvalue\u001b[0m\u001b[1;33m)\u001b[0m\u001b[1;33m:\u001b[0m\u001b[1;33m\u001b[0m\u001b[1;33m\u001b[0m\u001b[0m\n",
      "\u001b[1;31mAttributeError\u001b[0m: 'MatrixFactorization' object has no attribute 'birth_year_biases'"
     ]
    }
   ],
   "source": [
    "model.birth_year_biases(torch.tensor(0).to(device))+model.item_biases(torch.tensor(0).to(device))"
   ]
  },
  {
   "cell_type": "code",
   "execution_count": null,
   "metadata": {},
   "outputs": [],
   "source": []
  },
  {
   "cell_type": "code",
   "execution_count": null,
   "metadata": {},
   "outputs": [],
   "source": []
  },
  {
   "cell_type": "code",
   "execution_count": null,
   "metadata": {},
   "outputs": [],
   "source": []
  },
  {
   "cell_type": "code",
   "execution_count": null,
   "metadata": {},
   "outputs": [],
   "source": []
  },
  {
   "cell_type": "code",
   "execution_count": null,
   "metadata": {},
   "outputs": [],
   "source": []
  }
 ],
 "metadata": {
  "kernelspec": {
   "display_name": "Python 3",
   "language": "python",
   "name": "python3"
  },
  "language_info": {
   "codemirror_mode": {
    "name": "ipython",
    "version": 3
   },
   "file_extension": ".py",
   "mimetype": "text/x-python",
   "name": "python",
   "nbconvert_exporter": "python",
   "pygments_lexer": "ipython3",
   "version": "3.7.7"
  }
 },
 "nbformat": 4,
 "nbformat_minor": 4
}
